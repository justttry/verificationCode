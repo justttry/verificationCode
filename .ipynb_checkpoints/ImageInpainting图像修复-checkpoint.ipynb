{
 "cells": [
  {
   "cell_type": "code",
   "execution_count": 224,
   "metadata": {
    "collapsed": true
   },
   "outputs": [],
   "source": [
    "sample = 'sample/yanzhengma252.png'"
   ]
  },
  {
   "cell_type": "code",
   "execution_count": 225,
   "metadata": {
    "collapsed": false
   },
   "outputs": [
    {
     "data": {
      "image/png": "[encoded data removed]",
      "text/plain": [
       "<matplotlib.figure.Figure at 0x7f3e780>"
      ]
     },
     "metadata": {},
     "output_type": "display_data"
    }
   ],
   "source": [
    "import cv2\n",
    "import numpy as np\n",
    "from matplotlib import pyplot as plt\n",
    "\n",
    "img = cv2.imread(sample)\n",
    "color = ('b','g','r')\n",
    "for i,col in enumerate(color):\n",
    "    histr = cv2.calcHist([img],[i],None,[256],[0,256])\n",
    "    plt.plot(histr,color = col)\n",
    "    plt.xlim([0,256])\n",
    "plt.show()"
   ]
  },
  {
   "cell_type": "code",
   "execution_count": 226,
   "metadata": {
    "collapsed": false,
    "scrolled": true
   },
   "outputs": [
    {
     "data": {
      "text/plain": [
       "array([[[185, 163, 187],\n",
       "        [170, 153, 174],\n",
       "        [170, 163, 176],\n",
       "        ..., \n",
       "        [163, 164, 174],\n",
       "        [163, 164, 174],\n",
       "        [165, 164, 174]],\n",
       "\n",
       "       [[177, 153, 177],\n",
       "        [187, 168, 189],\n",
       "        [175, 166, 179],\n",
       "        ..., \n",
       "        [163, 164, 174],\n",
       "        [163, 164, 174],\n",
       "        [165, 164, 174]],\n",
       "\n",
       "       [[ 83,  57,  81],\n",
       "        [ 86,  65,  87],\n",
       "        [ 61,  50,  66],\n",
       "        ..., \n",
       "        [163, 164, 174],\n",
       "        [163, 164, 174],\n",
       "        [165, 164, 174]],\n",
       "\n",
       "       ..., \n",
       "       [[160, 165, 168],\n",
       "        [170, 172, 180],\n",
       "        [171, 164, 179],\n",
       "        ..., \n",
       "        [163, 164, 174],\n",
       "        [165, 164, 174],\n",
       "        [165, 164, 174]],\n",
       "\n",
       "       [[155, 160, 163],\n",
       "        [162, 164, 172],\n",
       "        [167, 160, 175],\n",
       "        ..., \n",
       "        [165, 164, 174],\n",
       "        [165, 164, 174],\n",
       "        [165, 164, 174]],\n",
       "\n",
       "       [[170, 175, 178],\n",
       "        [160, 162, 170],\n",
       "        [172, 165, 180],\n",
       "        ..., \n",
       "        [165, 164, 174],\n",
       "        [165, 164, 174],\n",
       "        [165, 164, 174]]], dtype=uint8)"
      ]
     },
     "execution_count": 226,
     "metadata": {},
     "output_type": "execute_result"
    }
   ],
   "source": [
    "img.shape\n",
    "img"
   ]
  },
  {
   "cell_type": "code",
   "execution_count": 227,
   "metadata": {
    "collapsed": false
   },
   "outputs": [
    {
     "data": {
      "text/plain": [
       "array([[185, 170, 170, ..., 163, 163, 165],\n",
       "       [177, 187, 175, ..., 163, 163, 165],\n",
       "       [ 83,  86,  61, ..., 163, 163, 165],\n",
       "       ..., \n",
       "       [160, 170, 171, ..., 163, 165, 165],\n",
       "       [155, 162, 167, ..., 165, 165, 165],\n",
       "       [170, 160, 172, ..., 165, 165, 165]], dtype=uint8)"
      ]
     },
     "execution_count": 227,
     "metadata": {},
     "output_type": "execute_result"
    }
   ],
   "source": [
    "a = img[:, :, 0]\n",
    "a.shape\n",
    "a"
   ]
  },
  {
   "cell_type": "code",
   "execution_count": 228,
   "metadata": {
    "collapsed": false
   },
   "outputs": [
    {
     "data": {
      "text/plain": [
       "True"
      ]
     },
     "execution_count": 228,
     "metadata": {},
     "output_type": "execute_result"
    }
   ],
   "source": [
    "import numpy as np\n",
    "import cv2\n",
    "\n",
    "img = cv2.imread(sample,0)\n",
    "\n",
    "# create a CLAHE object (Arguments are optional).\n",
    "clahe = cv2.createCLAHE(clipLimit=2.0, tileGridSize=(8,8))\n",
    "cl1 = clahe.apply(img)\n",
    "\n",
    "cv2.imwrite('result/test1.jpg',cl1)"
   ]
  },
  {
   "cell_type": "code",
   "execution_count": 229,
   "metadata": {
    "collapsed": false
   },
   "outputs": [
    {
     "data": {
      "text/plain": [
       "(44L, 140L)"
      ]
     },
     "execution_count": 229,
     "metadata": {},
     "output_type": "execute_result"
    }
   ],
   "source": [
    "img.shape"
   ]
  },
  {
   "cell_type": "code",
   "execution_count": 230,
   "metadata": {
    "collapsed": false
   },
   "outputs": [
    {
     "data": {
      "image/png": "[encoded data removed]",
      "text/plain": [
       "<matplotlib.figure.Figure at 0x9796da0>"
      ]
     },
     "metadata": {},
     "output_type": "display_data"
    },
    {
     "data": {
      "image/png": "[encoded data removed]",
      "text/plain": [
       "<matplotlib.figure.Figure at 0x97f5128>"
      ]
     },
     "metadata": {},
     "output_type": "display_data"
    }
   ],
   "source": [
    "import cv2\n",
    "import numpy as np\n",
    "from matplotlib import pyplot as plt\n",
    "\n",
    "img = cv2.imread(sample,0)\n",
    "plt.hist(img.ravel(),256,[0,256]); plt.show()\n",
    "\n",
    "equ = cv2.equalizeHist(img)\n",
    "plt.hist(equ.ravel(),256,[0,256]); plt.show()\n",
    "cv2.imwrite('result/res1.png',equ)\n",
    "cv2.imshow('image', equ)\n",
    "cv2.waitKey(0)\n",
    "cv2.destroyAllWindows()"
   ]
  },
  {
   "cell_type": "code",
   "execution_count": 231,
   "metadata": {
    "collapsed": false
   },
   "outputs": [],
   "source": [
    "\n",
    "blur = cv2.GaussianBlur(img,(5,5),0)\n",
    "ret3,th3 = cv2.threshold(blur,0,255,cv2.THRESH_BINARY+cv2.THRESH_OTSU)\n",
    "cv2.imwrite('result/test2.jpg',th3)\n",
    "cv2.imshow('image2', th3)\n",
    "cv2.imshow('img', img)\n",
    "cv2.waitKey(0)\n",
    "cv2.destroyAllWindows()"
   ]
  },
  {
   "cell_type": "code",
   "execution_count": 232,
   "metadata": {
    "collapsed": false
   },
   "outputs": [
    {
     "data": {
      "text/plain": [
       "(44L, 140L, 3L)"
      ]
     },
     "execution_count": 232,
     "metadata": {},
     "output_type": "execute_result"
    }
   ],
   "source": [
    "import cv2\n",
    "import numpy as np\n",
    "from matplotlib import pyplot as plt\n",
    "\n",
    "img0 = cv2.imread(sample)\n",
    "cv2.imshow('b', img0)\n",
    "cv2.waitKey(0)\n",
    "cv2.destroyAllWindows()\n",
    "img0.shape"
   ]
  },
  {
   "cell_type": "code",
   "execution_count": 233,
   "metadata": {
    "collapsed": false
   },
   "outputs": [
    {
     "data": {
      "image/png": "[encoded data removed]",
      "text/plain": [
       "<matplotlib.figure.Figure at 0x960c7b8>"
      ]
     },
     "metadata": {},
     "output_type": "display_data"
    }
   ],
   "source": [
    "import cv2\n",
    "import numpy as np\n",
    "from matplotlib import pyplot as plt\n",
    "\n",
    "img = cv2.imread(sample)\n",
    "color = ('b','g','r')\n",
    "for i,col in enumerate(color):\n",
    "    histr = cv2.calcHist([img],[i],None,[256],[0,256])\n",
    "    plt.plot(histr,color = col)\n",
    "    plt.xlim([0,256])\n",
    "plt.show()\n",
    "\n",
    "ret,thresh1 = cv2.threshold(img,175,180,cv2.THRESH_BINARY)\n",
    "cv2.imshow('image', img)\n",
    "cv2.imshow('thresh', thresh1)\n",
    "cv2.waitKey(0)\n",
    "cv2.destroyAllWindows()"
   ]
  },
  {
   "cell_type": "code",
   "execution_count": 234,
   "metadata": {
    "collapsed": false
   },
   "outputs": [],
   "source": [
    "histb = cv2.calcHist([img], [0], None, [256], [0, 256])\n",
    "histr = cv2.calcHist([img], [1], None, [256], [0, 256])\n",
    "histg = cv2.calcHist([img], [2], None, [256], [0, 256])"
   ]
  },
  {
   "cell_type": "code",
   "execution_count": 235,
   "metadata": {
    "collapsed": false
   },
   "outputs": [
    {
     "name": "stdout",
     "output_type": "stream",
     "text": [
      "326.0\n"
     ]
    },
    {
     "data": {
      "text/plain": [
       "(array([163], dtype=int64), array([0], dtype=int64))"
      ]
     },
     "execution_count": 235,
     "metadata": {},
     "output_type": "execute_result"
    }
   ],
   "source": [
    "maxb = max(histb)[0]\n",
    "print maxb\n",
    "np.where(histb==maxb)"
   ]
  },
  {
   "cell_type": "code",
   "execution_count": 236,
   "metadata": {
    "collapsed": false
   },
   "outputs": [
    {
     "name": "stdout",
     "output_type": "stream",
     "text": [
      "326.0\n",
      "163\n",
      "498.0\n",
      "164\n",
      "439.0\n",
      "174\n"
     ]
    }
   ],
   "source": [
    "maxb = max(histb)[0]\n",
    "print maxb\n",
    "b = np.where(histb==maxb)[0][0]\n",
    "print b\n",
    "maxr = max(histr)[0]\n",
    "print maxr\n",
    "r = np.where(histr==maxr)[0][0]\n",
    "print r\n",
    "maxg = max(histg)[0]\n",
    "print maxg\n",
    "g = np.where(histg==maxg)[0][0]\n",
    "print g"
   ]
  },
  {
   "cell_type": "code",
   "execution_count": 237,
   "metadata": {
    "collapsed": true
   },
   "outputs": [],
   "source": [
    "cv2.imshow('img', img)\n",
    "cv2.waitKey(0)\n",
    "cv2.destroyAllWindows()"
   ]
  },
  {
   "cell_type": "code",
   "execution_count": 238,
   "metadata": {
    "collapsed": false
   },
   "outputs": [
    {
     "name": "stdout",
     "output_type": "stream",
     "text": [
      "[[False False  True  True  True]\n",
      " [False  True  True  True  True]]\n",
      "[[ True  True  True  True  True]\n",
      " [ True  True False False False]]\n",
      "[[False False  True  True  True]\n",
      " [False  True False False False]]\n"
     ]
    }
   ],
   "source": [
    "aa = np.array([[1, 2, 3, 4, 5], [0, 6, 7, 8, 9]])\n",
    "bb = aa[:, :] >= 3\n",
    "cc = aa[:, :] <= 6\n",
    "print bb\n",
    "print cc\n",
    "dd = bb & cc\n",
    "print dd"
   ]
  },
  {
   "cell_type": "code",
   "execution_count": 239,
   "metadata": {
    "collapsed": false
   },
   "outputs": [
    {
     "data": {
      "text/plain": [
       "array([[162, 158, 170],\n",
       "       [164, 160, 171],\n",
       "       [162, 151, 167],\n",
       "       ..., \n",
       "       [165, 164, 174],\n",
       "       [165, 164, 174],\n",
       "       [165, 164, 174]], dtype=uint8)"
      ]
     },
     "execution_count": 239,
     "metadata": {},
     "output_type": "execute_result"
    }
   ],
   "source": [
    "newimg = img.copy()\n",
    "ee = newimg[:, :, 0]>=b-2\n",
    "ff = newimg[:, :, 0]<=b+2\n",
    "gg = ee & ff\n",
    "newimg[gg]"
   ]
  },
  {
   "cell_type": "code",
   "execution_count": 240,
   "metadata": {
    "collapsed": true
   },
   "outputs": [],
   "source": [
    "def calcbool(img, axis, val, thresh):\n",
    "    a = img[:, :, axis] >= val - thresh\n",
    "    b = img[:, :, axis] <= val + thresh\n",
    "    return a & b"
   ]
  },
  {
   "cell_type": "code",
   "execution_count": 241,
   "metadata": {
    "collapsed": false
   },
   "outputs": [],
   "source": [
    "newimg = img.copy()\n",
    "newimg[calcbool(newimg, 0, b, 30)] = 0\n",
    "newimg[calcbool(newimg, 1, r, 30)] = 0\n",
    "newimg[calcbool(newimg, 2, g, 30)] = 0"
   ]
  },
  {
   "cell_type": "code",
   "execution_count": 242,
   "metadata": {
    "collapsed": false
   },
   "outputs": [],
   "source": [
    "cv2.imwrite('result/test3.jpg', newimg)\n",
    "cv2.imshow('newimg', newimg)\n",
    "cv2.imshow('img', img)\n",
    "cv2.waitKey(0)\n",
    "cv2.destroyAllWindows()"
   ]
  },
  {
   "cell_type": "code",
   "execution_count": 243,
   "metadata": {
    "collapsed": false
   },
   "outputs": [
    {
     "data": {
      "text/plain": [
       "(44L, 140L, 3L)"
      ]
     },
     "execution_count": 243,
     "metadata": {},
     "output_type": "execute_result"
    }
   ],
   "source": [
    "newimg.shape"
   ]
  },
  {
   "cell_type": "code",
   "execution_count": 244,
   "metadata": {
    "collapsed": false
   },
   "outputs": [],
   "source": [
    "newimg1 = newimg[:, :, 0]\n",
    "newimg2 = newimg[:, :, 1]\n",
    "newimg3 = newimg[:, :, 2]\n",
    "blur1 = cv2.GaussianBlur(newimg1,(5,5),0)\n",
    "ret31,th31 = cv2.threshold(blur1,0,255,cv2.THRESH_BINARY+cv2.THRESH_OTSU)\n",
    "blur2 = cv2.GaussianBlur(newimg2,(5,5),0)\n",
    "ret32,th32 = cv2.threshold(blur2,0,255,cv2.THRESH_BINARY+cv2.THRESH_OTSU)\n",
    "blur3 = cv2.GaussianBlur(newimg3,(5,5),0)\n",
    "ret33,th33 = cv2.threshold(blur3,0,255,cv2.THRESH_BINARY+cv2.THRESH_OTSU)\n",
    "cv2.imshow('image21', th31)\n",
    "cv2.imshow('image22', th32)\n",
    "cv2.imshow('image23', th33)\n",
    "cv2.waitKey(0)\n",
    "cv2.destroyAllWindows()"
   ]
  },
  {
   "cell_type": "code",
   "execution_count": 245,
   "metadata": {
    "collapsed": false
   },
   "outputs": [
    {
     "data": {
      "text/plain": [
       "array([[  0,   0,   0, ...,   0,   0,   0],\n",
       "       [  0,   0,   0, ...,   0,   0,   0],\n",
       "       [255, 255, 255, ...,   0,   0,   0],\n",
       "       ..., \n",
       "       [  0,   0,   0, ...,   0,   0,   0],\n",
       "       [  0,   0,   0, ...,   0,   0,   0],\n",
       "       [  0,   0,   0, ...,   0,   0,   0]], dtype=uint8)"
      ]
     },
     "execution_count": 245,
     "metadata": {},
     "output_type": "execute_result"
    }
   ],
   "source": [
    "th31"
   ]
  },
  {
   "cell_type": "code",
   "execution_count": 246,
   "metadata": {
    "collapsed": false
   },
   "outputs": [
    {
     "data": {
      "text/plain": [
       "array([255, 255, 255, ..., 255, 255, 255], dtype=uint8)"
      ]
     },
     "execution_count": 246,
     "metadata": {},
     "output_type": "execute_result"
    }
   ],
   "source": [
    "th31[th31!=0]"
   ]
  },
  {
   "cell_type": "code",
   "execution_count": 247,
   "metadata": {
    "collapsed": true
   },
   "outputs": [],
   "source": [
    "a = np.array([[112], [223]])\n",
    "b = np.array([[255], [255]])\n",
    "c = np.array([[0], [255]])"
   ]
  },
  {
   "cell_type": "code",
   "execution_count": 248,
   "metadata": {
    "collapsed": false
   },
   "outputs": [
    {
     "name": "stdout",
     "output_type": "stream",
     "text": [
      "[[28560]\n",
      " [56865]]\n"
     ]
    },
    {
     "data": {
      "text/plain": [
       "array([[28560],\n",
       "       [56865]])"
      ]
     },
     "execution_count": 248,
     "metadata": {},
     "output_type": "execute_result"
    }
   ],
   "source": [
    "print a * b\n",
    "a*b.astype('uint8')"
   ]
  },
  {
   "cell_type": "code",
   "execution_count": 249,
   "metadata": {
    "collapsed": false
   },
   "outputs": [
    {
     "data": {
      "text/plain": [
       "array([[112, 255,   0],\n",
       "       [223, 255, 255]])"
      ]
     },
     "execution_count": 249,
     "metadata": {},
     "output_type": "execute_result"
    }
   ],
   "source": [
    "np.hstack((a, b, c))"
   ]
  },
  {
   "cell_type": "code",
   "execution_count": 250,
   "metadata": {
    "collapsed": false
   },
   "outputs": [
    {
     "data": {
      "text/plain": [
       "array([[[112, 255,   0]],\n",
       "\n",
       "       [[223, 255, 255]]])"
      ]
     },
     "execution_count": 250,
     "metadata": {},
     "output_type": "execute_result"
    }
   ],
   "source": [
    "np.dstack((a, b, c))"
   ]
  },
  {
   "cell_type": "code",
   "execution_count": 251,
   "metadata": {
    "collapsed": true
   },
   "outputs": [],
   "source": [
    "th3 = np.hstack((th31, th32, th33))\n",
    "cv2.imshow('th3', th3)\n",
    "cv2.waitKey(0)\n",
    "cv2.destroyAllWindows()"
   ]
  },
  {
   "cell_type": "code",
   "execution_count": 252,
   "metadata": {
    "collapsed": false
   },
   "outputs": [],
   "source": [
    "th3 = np.dstack((th31, th32, th33))\n",
    "cv2.imshow('th3', th3)\n",
    "cv2.waitKey(0)\n",
    "cv2.destroyAllWindows()"
   ]
  },
  {
   "cell_type": "code",
   "execution_count": 253,
   "metadata": {
    "collapsed": false
   },
   "outputs": [
    {
     "name": "stdout",
     "output_type": "stream",
     "text": [
      "(44L, 140L)\n"
     ]
    }
   ],
   "source": [
    "th4 = th31 * th32 * th33\n",
    "print th4.shape"
   ]
  },
  {
   "cell_type": "code",
   "execution_count": 254,
   "metadata": {
    "collapsed": false
   },
   "outputs": [
    {
     "name": "stdout",
     "output_type": "stream",
     "text": [
      "(44L, 140L, 3L)\n"
     ]
    }
   ],
   "source": [
    "th5 = np.dstack((th4, th4, th4))\n",
    "print th5.shape"
   ]
  },
  {
   "cell_type": "code",
   "execution_count": 255,
   "metadata": {
    "collapsed": true
   },
   "outputs": [],
   "source": [
    "newimg6 = img.copy()\n",
    "newimg6[th5==0] = 0"
   ]
  },
  {
   "cell_type": "code",
   "execution_count": 256,
   "metadata": {
    "collapsed": false
   },
   "outputs": [],
   "source": [
    "cv2.imshow('newimg6', newimg6)\n",
    "cv2.imshow('img', img)\n",
    "cv2.waitKey(0)\n",
    "cv2.destroyAllWindows()"
   ]
  },
  {
   "cell_type": "code",
   "execution_count": 257,
   "metadata": {
    "collapsed": false
   },
   "outputs": [],
   "source": [
    "img1 = cv2.imread(sample)\n",
    "img2 = cv2.imread(sample, 0)"
   ]
  },
  {
   "cell_type": "code",
   "execution_count": 258,
   "metadata": {
    "collapsed": false
   },
   "outputs": [
    {
     "name": "stdout",
     "output_type": "stream",
     "text": [
      "[[[185 163 187]\n",
      "  [170 153 174]\n",
      "  [170 163 176]\n",
      "  ..., \n",
      "  [163 164 174]\n",
      "  [163 164 174]\n",
      "  [165 164 174]]\n",
      "\n",
      " [[177 153 177]\n",
      "  [187 168 189]\n",
      "  [175 166 179]\n",
      "  ..., \n",
      "  [163 164 174]\n",
      "  [163 164 174]\n",
      "  [165 164 174]]\n",
      "\n",
      " [[ 83  57  81]\n",
      "  [ 86  65  87]\n",
      "  [ 61  50  66]\n",
      "  ..., \n",
      "  [163 164 174]\n",
      "  [163 164 174]\n",
      "  [165 164 174]]\n",
      "\n",
      " ..., \n",
      " [[160 165 168]\n",
      "  [170 172 180]\n",
      "  [171 164 179]\n",
      "  ..., \n",
      "  [163 164 174]\n",
      "  [165 164 174]\n",
      "  [165 164 174]]\n",
      "\n",
      " [[155 160 163]\n",
      "  [162 164 172]\n",
      "  [167 160 175]\n",
      "  ..., \n",
      "  [165 164 174]\n",
      "  [165 164 174]\n",
      "  [165 164 174]]\n",
      "\n",
      " [[170 175 178]\n",
      "  [160 162 170]\n",
      "  [172 165 180]\n",
      "  ..., \n",
      "  [165 164 174]\n",
      "  [165 164 174]\n",
      "  [165 164 174]]]\n",
      "------------------------------------------------------------\n",
      "[[173 161 168 ..., 167 167 167]\n",
      " [163 176 171 ..., 167 167 167]\n",
      " [ 67  74  56 ..., 167 167 167]\n",
      " ..., \n",
      " [165 174 169 ..., 167 167 167]\n",
      " [160 166 165 ..., 167 167 167]\n",
      " [175 164 170 ..., 167 167 167]]\n"
     ]
    }
   ],
   "source": [
    "print img1\n",
    "print '-' * 60\n",
    "print img2"
   ]
  },
  {
   "cell_type": "code",
   "execution_count": 259,
   "metadata": {
    "collapsed": false
   },
   "outputs": [
    {
     "data": {
      "image/png": "[encoded data removed]",
      "text/plain": [
       "<matplotlib.figure.Figure at 0x9a88cf8>"
      ]
     },
     "metadata": {},
     "output_type": "display_data"
    },
    {
     "data": {
      "image/png": "[encoded data removed]",
      "text/plain": [
       "<matplotlib.figure.Figure at 0x3f130b8>"
      ]
     },
     "metadata": {},
     "output_type": "display_data"
    }
   ],
   "source": [
    "import cv2\n",
    "import numpy as np\n",
    "from matplotlib import pyplot as plt\n",
    "\n",
    "img = cv2.imread(sample,0)\n",
    "plt.hist(img.ravel(),256,[0,256]); plt.show()\n",
    "\n",
    "equ = cv2.equalizeHist(img)\n",
    "plt.hist(equ.ravel(),256,[0,256]); plt.show()\n",
    "cv2.imwrite('result/res1.png',equ)\n",
    "cv2.imshow('image', equ)\n",
    "cv2.waitKey(0)\n",
    "cv2.destroyAllWindows()\n",
    "\n",
    "\n",
    "blur = cv2.GaussianBlur(img,(5,5),0)\n",
    "ret3,th3 = cv2.threshold(blur,0,255,cv2.THRESH_BINARY+cv2.THRESH_OTSU)\n",
    "cv2.imwrite('result/test2.jpg',th3)\n",
    "cv2.imshow('image2', th3)\n",
    "cv2.imshow('img', img)\n",
    "cv2.waitKey(0)\n",
    "cv2.destroyAllWindows()"
   ]
  },
  {
   "cell_type": "code",
   "execution_count": 260,
   "metadata": {
    "collapsed": false
   },
   "outputs": [
    {
     "data": {
      "image/png": "[encoded data removed]",
      "text/plain": [
       "<matplotlib.figure.Figure at 0x93bff28>"
      ]
     },
     "metadata": {},
     "output_type": "display_data"
    },
    {
     "data": {
      "image/png": "[encoded data removed]",
      "text/plain": [
       "<matplotlib.figure.Figure at 0x95efda0>"
      ]
     },
     "metadata": {},
     "output_type": "display_data"
    }
   ],
   "source": [
    "plt.imshow(th3)\n",
    "plt.show()\n",
    "plt.imshow(img)\n",
    "plt.show()"
   ]
  },
  {
   "cell_type": "code",
   "execution_count": 261,
   "metadata": {
    "collapsed": false
   },
   "outputs": [],
   "source": [
    "a = np.array([[255, 255, 255], [0, 255, 0], [255, 0, 0], [255, 255, 255]])"
   ]
  },
  {
   "cell_type": "code",
   "execution_count": 262,
   "metadata": {
    "collapsed": false
   },
   "outputs": [
    {
     "data": {
      "text/plain": [
       "array([[ True, False,  True],\n",
       "       [False,  True,  True]], dtype=bool)"
      ]
     },
     "execution_count": 262,
     "metadata": {},
     "output_type": "execute_result"
    }
   ],
   "source": [
    "a[1:-1]==0"
   ]
  },
  {
   "cell_type": "code",
   "execution_count": 263,
   "metadata": {
    "collapsed": false
   },
   "outputs": [
    {
     "data": {
      "text/plain": [
       "array([[1, 0, 0],\n",
       "       [0, 1, 0]])"
      ]
     },
     "execution_count": 263,
     "metadata": {},
     "output_type": "execute_result"
    }
   ],
   "source": [
    "(a[:-2] & a[2:]) & (a[1:-1]==0)"
   ]
  },
  {
   "cell_type": "code",
   "execution_count": 264,
   "metadata": {
    "collapsed": true
   },
   "outputs": [],
   "source": [
    "maska = (a[:-2] & a[2:]) & (a[1:-1]==0)"
   ]
  },
  {
   "cell_type": "code",
   "execution_count": 265,
   "metadata": {
    "collapsed": false
   },
   "outputs": [
    {
     "data": {
      "text/plain": [
       "array([[1, 0, 0],\n",
       "       [0, 1, 0]])"
      ]
     },
     "execution_count": 265,
     "metadata": {},
     "output_type": "execute_result"
    }
   ],
   "source": [
    "maska"
   ]
  },
  {
   "cell_type": "code",
   "execution_count": 266,
   "metadata": {
    "collapsed": false
   },
   "outputs": [
    {
     "data": {
      "text/plain": [
       "array([[255, 255, 255],\n",
       "       [255, 255,   0],\n",
       "       [255, 255,   0],\n",
       "       [255, 255, 255]])"
      ]
     },
     "execution_count": 266,
     "metadata": {},
     "output_type": "execute_result"
    }
   ],
   "source": [
    "a[1:-1][maska==1] = 255\n",
    "a"
   ]
  },
  {
   "cell_type": "code",
   "execution_count": 267,
   "metadata": {
    "collapsed": false
   },
   "outputs": [
    {
     "data": {
      "text/plain": [
       "array([[  0,   0,   0, ..., 255, 255, 255],\n",
       "       [  0,   0, 255, ..., 255, 255, 255],\n",
       "       [  0,   0,   0, ..., 255, 255, 255],\n",
       "       ..., \n",
       "       [255, 255, 255, ..., 255, 255, 255],\n",
       "       [255, 255, 255, ..., 255, 255, 255],\n",
       "       [255, 255, 255, ..., 255, 255, 255]], dtype=uint8)"
      ]
     },
     "execution_count": 267,
     "metadata": {},
     "output_type": "execute_result"
    }
   ],
   "source": [
    "th3[:-2] & th3[2:]"
   ]
  },
  {
   "cell_type": "code",
   "execution_count": 268,
   "metadata": {
    "collapsed": true
   },
   "outputs": [],
   "source": [
    "mask = (th3[:-2] & th3[2:]) & (th3[1:-1]==0)"
   ]
  },
  {
   "cell_type": "code",
   "execution_count": 269,
   "metadata": {
    "collapsed": false
   },
   "outputs": [
    {
     "data": {
      "text/plain": [
       "array([1, 1, 1, 1], dtype=uint8)"
      ]
     },
     "execution_count": 269,
     "metadata": {},
     "output_type": "execute_result"
    }
   ],
   "source": [
    "mask[mask!=0]"
   ]
  },
  {
   "cell_type": "code",
   "execution_count": 270,
   "metadata": {
    "collapsed": true
   },
   "outputs": [],
   "source": [
    "th3[1:-1][mask==1] = 255"
   ]
  },
  {
   "cell_type": "code",
   "execution_count": 271,
   "metadata": {
    "collapsed": true
   },
   "outputs": [],
   "source": [
    "cv2.imshow('th3', th3)\n",
    "cv2.waitKey(0)\n",
    "cv2.destroyAllWindows()"
   ]
  },
  {
   "cell_type": "code",
   "execution_count": 272,
   "metadata": {
    "collapsed": false
   },
   "outputs": [
    {
     "data": {
      "text/plain": [
       "True"
      ]
     },
     "execution_count": 272,
     "metadata": {},
     "output_type": "execute_result"
    }
   ],
   "source": [
    "cv2.imwrite('result/th3.jpg', th3)"
   ]
  },
  {
   "cell_type": "code",
   "execution_count": 273,
   "metadata": {
    "collapsed": false
   },
   "outputs": [
    {
     "data": {
      "image/png": "[encoded data removed]",
      "text/plain": [
       "<matplotlib.figure.Figure at 0x977c668>"
      ]
     },
     "metadata": {},
     "output_type": "display_data"
    }
   ],
   "source": [
    "plt.imshow(th3)\n",
    "plt.show()"
   ]
  },
  {
   "cell_type": "code",
   "execution_count": 274,
   "metadata": {
    "collapsed": true
   },
   "outputs": [],
   "source": [
    "newimg = img.copy()\n",
    "cv2.imshow('newimg', newimg)\n",
    "cv2.waitKey(0)\n",
    "cv2.destroyAllWindows()"
   ]
  },
  {
   "cell_type": "code",
   "execution_count": 275,
   "metadata": {
    "collapsed": true
   },
   "outputs": [],
   "source": [
    "newimg[th3!=0] = 0\n",
    "cv2.imshow('newimg', newimg)\n",
    "cv2.waitKey(0)\n",
    "cv2.destroyAllWindows()"
   ]
  },
  {
   "cell_type": "code",
   "execution_count": 276,
   "metadata": {
    "collapsed": false
   },
   "outputs": [
    {
     "data": {
      "text/plain": [
       "(44L, 140L)"
      ]
     },
     "execution_count": 276,
     "metadata": {},
     "output_type": "execute_result"
    }
   ],
   "source": [
    "newimg.shape"
   ]
  },
  {
   "cell_type": "code",
   "execution_count": 277,
   "metadata": {
    "collapsed": false
   },
   "outputs": [
    {
     "data": {
      "text/plain": [
       "array([[164,  80,  70,  67,  63,   0,   0,   0,   0,   0],\n",
       "       [ 65,  64, 165,   0,   0,   0,   0,   0,   0,   0],\n",
       "       [ 81,  59,   0,   0,   0,   0,   0,   0,   0,   0],\n",
       "       [ 60,  95,   0,   0,   0,   0,   0,   0,   0,   0],\n",
       "       [ 68, 150,   0,   0,   0,   0,   0, 110,   0,   0],\n",
       "       [ 78,   0,   0,   0, 117, 139, 125, 109, 138, 141],\n",
       "       [ 76, 158, 163, 131,  94, 101,  92,  90,  84,  75],\n",
       "       [ 79,  99,  87,  79,  89,  86,  73,  94,  79,  80],\n",
       "       [ 89,  82,  95, 103, 132, 154, 147, 143, 126,  92],\n",
       "       [ 85, 106,   0,   0,   0,   0,   0,   0,   0, 161],\n",
       "       [ 73,  90,   0,   0,   0,   0,   0,   0,   0,   0],\n",
       "       [ 86,  87,   0,   0,   0,   0,   0,   0,   0,   0],\n",
       "       [ 94,  92, 129,   0,   0,   0,   0,   0,   0,   0],\n",
       "       [ 78,  85, 113,   0,   0,   0,   0,   0,   0,   0],\n",
       "       [ 72,  91, 106,   0,   0,   0,   0,   0,   0,   0],\n",
       "       [ 76,  87,  71,   0,   0,   0,   0,   0,   0,   0],\n",
       "       [ 91,  86,  80, 142,   0,   0,   0,   0,   0,   0],\n",
       "       [ 90,  83,  82, 114,   0,   0,   0,   0,   0,   0],\n",
       "       [ 87,  80,  86,  88,   0,   0,   0,   0,   0,   0],\n",
       "       [ 84,  79,  88,  84,   0,   0,   0,   0,   0,   0],\n",
       "       [ 84,  80,  84,  93, 131,   0,   0,   0,   0,   0],\n",
       "       [ 85,  82,  80,  95, 103,   0,   0,   0,   0,   0],\n",
       "       [ 85,  85,  81,  86,  89,   0,   0,   0,   0,   0],\n",
       "       [ 84,  88,  86,  77,  88,   0,   0,   0,   0,   0],\n",
       "       [ 77,  89,  91,  77,  88, 133,   0,   0,   0,   0],\n",
       "       [ 84,  78,  76,  75,  92,  99,   0,   0,   0,   0],\n",
       "       [ 87,  86,  91,  86,  82, 102,   0,   0,   0,   0],\n",
       "       [ 87,  80,  86,  88,  77,  81, 124, 117,  94,  97],\n",
       "       [109,  90,  82,  90,  85,  86,  94,  81,  71,  96],\n",
       "       [ 96,  80,  70,  81,  75, 101, 117,   0,   0,   0],\n",
       "       [ 77,  99, 126,   0,   0,   0,   0,   0,   0,   0],\n",
       "       [  0,   0,   0,   0,   0,   0,   0,   0,   0,   0],\n",
       "       [  0,   0,   0,   0,   0,   0,   0,   0,   0,   0],\n",
       "       [  0,   0,   0,   0,   0,   0,   0,   0,   0,   0],\n",
       "       [  0,   0,   0,   0,   0,   0,   0,   0,   0,   0],\n",
       "       [  0,   0,   0,   0,   0,   0,   0,   0,   0,   0],\n",
       "       [  0,   0,   0,   0,   0,   0,   0,   0,   0,   0],\n",
       "       [  0,   0,   0,   0,   0,   0,   0,   0,   0,   0],\n",
       "       [  0,   0,   0,   0,   0,   0,   0,   0,   0,   0],\n",
       "       [  0,   0,   0,   0,   0,   0,   0,   0,   0,   0],\n",
       "       [  0,   0,   0,   0,   0,   0,   0,   0,   0,   0],\n",
       "       [  0,   0,   0,   0,   0,   0,   0,   0,   0,   0],\n",
       "       [  0,   0,   0,   0,   0,   0,   0,   0,   0,   0],\n",
       "       [  0,   0,   0,   0,   0,   0,   0,   0,   0,   0]], dtype=uint8)"
      ]
     },
     "execution_count": 277,
     "metadata": {},
     "output_type": "execute_result"
    }
   ],
   "source": [
    "newimg[:, 11:21]"
   ]
  },
  {
   "cell_type": "code",
   "execution_count": 278,
   "metadata": {
    "collapsed": false
   },
   "outputs": [
    {
     "data": {
      "image/png": "[encoded data removed]",
      "text/plain": [
       "<matplotlib.figure.Figure at 0x9818ba8>"
      ]
     },
     "metadata": {},
     "output_type": "display_data"
    }
   ],
   "source": [
    "plt.hist(newimg.ravel(),256,[1,256]); plt.show()"
   ]
  },
  {
   "cell_type": "code",
   "execution_count": 279,
   "metadata": {
    "collapsed": true
   },
   "outputs": [],
   "source": [
    "img = cv2.imread(sample)"
   ]
  },
  {
   "cell_type": "code",
   "execution_count": 280,
   "metadata": {
    "collapsed": false
   },
   "outputs": [],
   "source": [
    "img[:, :, 0][th3!=0] = 0\n",
    "img[:, :, 1][th3!=0] = 0\n",
    "img[:, :, 2][th3!=0] = 0"
   ]
  },
  {
   "cell_type": "code",
   "execution_count": 281,
   "metadata": {
    "collapsed": true
   },
   "outputs": [],
   "source": [
    "cv2.imshow('img', img)\n",
    "cv2.waitKey(0)\n",
    "cv2.destroyAllWindows()"
   ]
  },
  {
   "cell_type": "code",
   "execution_count": 282,
   "metadata": {
    "collapsed": false
   },
   "outputs": [
    {
     "data": {
      "image/png": "[encoded data removed]",
      "text/plain": [
       "<matplotlib.figure.Figure at 0x99f00b8>"
      ]
     },
     "metadata": {},
     "output_type": "display_data"
    }
   ],
   "source": [
    "color = ('b','g','r')\n",
    "for i,col in enumerate(color):\n",
    "    histr = cv2.calcHist([img],[i],None,[256],[1,256])\n",
    "    plt.plot(histr,color = col)\n",
    "    plt.xlim([1,256])\n",
    "plt.show()"
   ]
  },
  {
   "cell_type": "code",
   "execution_count": 283,
   "metadata": {
    "collapsed": false
   },
   "outputs": [],
   "source": [
    "cols = img.shape[1]\n",
    "nums = range(10) + range(cols-10, cols)\n",
    "cutimg = img[:, nums]\n",
    "cv2.imwrite('result/cutimg.jpg', cutimg)\n",
    "cv2.imshow('cutimg', cutimg)\n",
    "cv2.waitKey(0)\n",
    "cv2.destroyAllWindows()"
   ]
  },
  {
   "cell_type": "code",
   "execution_count": 284,
   "metadata": {
    "collapsed": false
   },
   "outputs": [
    {
     "data": {
      "image/png": "[encoded data removed]",
      "text/plain": [
       "<matplotlib.figure.Figure at 0x987a978>"
      ]
     },
     "metadata": {},
     "output_type": "display_data"
    }
   ],
   "source": [
    "color = ('b','g','r')\n",
    "for i,col in enumerate(color):\n",
    "    histr = cv2.calcHist([cutimg],[i],None,[256],[1,256])\n",
    "    plt.plot(histr,color = col)\n",
    "    plt.xlim([1,256])\n",
    "plt.show()"
   ]
  },
  {
   "cell_type": "code",
   "execution_count": 285,
   "metadata": {
    "collapsed": false
   },
   "outputs": [
    {
     "data": {
      "text/plain": [
       "array([[ 0.],\n",
       "       [ 0.],\n",
       "       [ 0.],\n",
       "       [ 0.],\n",
       "       [ 0.],\n",
       "       [ 0.],\n",
       "       [ 0.],\n",
       "       [ 0.],\n",
       "       [ 0.],\n",
       "       [ 0.],\n",
       "       [ 0.],\n",
       "       [ 0.],\n",
       "       [ 0.],\n",
       "       [ 0.],\n",
       "       [ 0.],\n",
       "       [ 0.],\n",
       "       [ 0.],\n",
       "       [ 0.],\n",
       "       [ 0.],\n",
       "       [ 0.],\n",
       "       [ 0.],\n",
       "       [ 0.],\n",
       "       [ 0.],\n",
       "       [ 0.],\n",
       "       [ 0.],\n",
       "       [ 0.],\n",
       "       [ 0.],\n",
       "       [ 0.],\n",
       "       [ 0.],\n",
       "       [ 0.],\n",
       "       [ 0.],\n",
       "       [ 0.],\n",
       "       [ 0.],\n",
       "       [ 0.],\n",
       "       [ 0.],\n",
       "       [ 0.],\n",
       "       [ 0.],\n",
       "       [ 0.],\n",
       "       [ 0.],\n",
       "       [ 0.],\n",
       "       [ 0.],\n",
       "       [ 0.],\n",
       "       [ 0.],\n",
       "       [ 0.],\n",
       "       [ 0.],\n",
       "       [ 0.],\n",
       "       [ 0.],\n",
       "       [ 0.],\n",
       "       [ 0.],\n",
       "       [ 0.],\n",
       "       [ 0.],\n",
       "       [ 0.],\n",
       "       [ 0.],\n",
       "       [ 0.],\n",
       "       [ 0.],\n",
       "       [ 0.],\n",
       "       [ 0.],\n",
       "       [ 0.],\n",
       "       [ 1.],\n",
       "       [ 0.],\n",
       "       [ 0.],\n",
       "       [ 1.],\n",
       "       [ 0.],\n",
       "       [ 1.],\n",
       "       [ 2.],\n",
       "       [ 1.],\n",
       "       [ 1.],\n",
       "       [ 1.],\n",
       "       [ 1.],\n",
       "       [ 3.],\n",
       "       [ 2.],\n",
       "       [ 1.],\n",
       "       [ 3.],\n",
       "       [ 6.],\n",
       "       [ 4.],\n",
       "       [ 3.],\n",
       "       [ 5.],\n",
       "       [ 3.],\n",
       "       [ 1.],\n",
       "       [ 2.],\n",
       "       [ 4.],\n",
       "       [ 2.],\n",
       "       [ 7.],\n",
       "       [ 7.],\n",
       "       [ 7.],\n",
       "       [ 7.],\n",
       "       [ 5.],\n",
       "       [ 4.],\n",
       "       [ 5.],\n",
       "       [ 1.],\n",
       "       [ 0.],\n",
       "       [ 6.],\n",
       "       [ 6.],\n",
       "       [ 4.],\n",
       "       [ 4.],\n",
       "       [ 8.],\n",
       "       [ 1.],\n",
       "       [ 3.],\n",
       "       [ 0.],\n",
       "       [ 3.],\n",
       "       [ 3.],\n",
       "       [ 2.],\n",
       "       [ 4.],\n",
       "       [ 5.],\n",
       "       [ 1.],\n",
       "       [ 2.],\n",
       "       [ 2.],\n",
       "       [ 2.],\n",
       "       [ 4.],\n",
       "       [ 1.],\n",
       "       [ 1.],\n",
       "       [ 1.],\n",
       "       [ 0.],\n",
       "       [ 1.],\n",
       "       [ 4.],\n",
       "       [ 0.],\n",
       "       [ 1.],\n",
       "       [ 0.],\n",
       "       [ 3.],\n",
       "       [ 1.],\n",
       "       [ 1.],\n",
       "       [ 0.],\n",
       "       [ 0.],\n",
       "       [ 1.],\n",
       "       [ 2.],\n",
       "       [ 1.],\n",
       "       [ 0.],\n",
       "       [ 0.],\n",
       "       [ 0.],\n",
       "       [ 0.],\n",
       "       [ 1.],\n",
       "       [ 1.],\n",
       "       [ 0.],\n",
       "       [ 2.],\n",
       "       [ 0.],\n",
       "       [ 1.],\n",
       "       [ 2.],\n",
       "       [ 0.],\n",
       "       [ 1.],\n",
       "       [ 3.],\n",
       "       [ 1.],\n",
       "       [ 0.],\n",
       "       [ 0.],\n",
       "       [ 1.],\n",
       "       [ 0.],\n",
       "       [ 0.],\n",
       "       [ 0.],\n",
       "       [ 1.],\n",
       "       [ 1.],\n",
       "       [ 0.],\n",
       "       [ 0.],\n",
       "       [ 0.],\n",
       "       [ 0.],\n",
       "       [ 0.],\n",
       "       [ 1.],\n",
       "       [ 0.],\n",
       "       [ 1.],\n",
       "       [ 0.],\n",
       "       [ 1.],\n",
       "       [ 1.],\n",
       "       [ 0.],\n",
       "       [ 0.],\n",
       "       [ 2.],\n",
       "       [ 0.],\n",
       "       [ 0.],\n",
       "       [ 1.],\n",
       "       [ 0.],\n",
       "       [ 1.],\n",
       "       [ 3.],\n",
       "       [ 0.],\n",
       "       [ 1.],\n",
       "       [ 0.],\n",
       "       [ 0.],\n",
       "       [ 1.],\n",
       "       [ 2.],\n",
       "       [ 3.],\n",
       "       [ 2.],\n",
       "       [ 2.],\n",
       "       [ 1.],\n",
       "       [ 3.],\n",
       "       [ 0.],\n",
       "       [ 0.],\n",
       "       [ 1.],\n",
       "       [ 1.],\n",
       "       [ 0.],\n",
       "       [ 0.],\n",
       "       [ 0.],\n",
       "       [ 0.],\n",
       "       [ 0.],\n",
       "       [ 0.],\n",
       "       [ 0.],\n",
       "       [ 0.],\n",
       "       [ 0.],\n",
       "       [ 1.],\n",
       "       [ 0.],\n",
       "       [ 0.],\n",
       "       [ 0.],\n",
       "       [ 1.],\n",
       "       [ 0.],\n",
       "       [ 0.],\n",
       "       [ 0.],\n",
       "       [ 0.],\n",
       "       [ 0.],\n",
       "       [ 0.],\n",
       "       [ 0.],\n",
       "       [ 0.],\n",
       "       [ 0.],\n",
       "       [ 0.],\n",
       "       [ 0.],\n",
       "       [ 0.],\n",
       "       [ 0.],\n",
       "       [ 0.],\n",
       "       [ 0.],\n",
       "       [ 0.],\n",
       "       [ 0.],\n",
       "       [ 0.],\n",
       "       [ 0.],\n",
       "       [ 0.],\n",
       "       [ 0.],\n",
       "       [ 0.],\n",
       "       [ 0.],\n",
       "       [ 0.],\n",
       "       [ 0.],\n",
       "       [ 0.],\n",
       "       [ 0.],\n",
       "       [ 0.],\n",
       "       [ 0.],\n",
       "       [ 0.],\n",
       "       [ 0.],\n",
       "       [ 0.],\n",
       "       [ 0.],\n",
       "       [ 0.],\n",
       "       [ 0.],\n",
       "       [ 0.],\n",
       "       [ 0.],\n",
       "       [ 0.],\n",
       "       [ 0.],\n",
       "       [ 0.],\n",
       "       [ 0.],\n",
       "       [ 0.],\n",
       "       [ 0.],\n",
       "       [ 0.],\n",
       "       [ 0.],\n",
       "       [ 0.],\n",
       "       [ 0.],\n",
       "       [ 0.],\n",
       "       [ 0.],\n",
       "       [ 0.],\n",
       "       [ 0.],\n",
       "       [ 0.],\n",
       "       [ 0.],\n",
       "       [ 0.],\n",
       "       [ 0.],\n",
       "       [ 0.],\n",
       "       [ 0.],\n",
       "       [ 0.]], dtype=float32)"
      ]
     },
     "execution_count": 285,
     "metadata": {},
     "output_type": "execute_result"
    }
   ],
   "source": [
    "histr = cv2.calcHist([cutimg],[2],None,[256],[1,256])\n",
    "histr"
   ]
  },
  {
   "cell_type": "code",
   "execution_count": 306,
   "metadata": {
    "collapsed": false
   },
   "outputs": [
    {
     "name": "stdout",
     "output_type": "stream",
     "text": [
      "(array([73, 82, 83, 84, 85, 91, 92, 95], dtype=int64), array([0, 0, 0, 0, 0, 0, 0, 0], dtype=int64))\n",
      "85.625\n"
     ]
    }
   ],
   "source": [
    "maxpix = np.where(histr>5)\n",
    "print maxpix\n",
    "average = np.average(maxpix[0])\n",
    "print average"
   ]
  },
  {
   "cell_type": "code",
   "execution_count": 296,
   "metadata": {
    "collapsed": false
   },
   "outputs": [],
   "source": [
    "newimg = img.copy()\n",
    "cv2.imshow('newimg', newimg[:, :, -1])\n",
    "cv2.waitKey(0)\n",
    "cv2.destroyAllWindows()"
   ]
  },
  {
   "cell_type": "code",
   "execution_count": 297,
   "metadata": {
    "collapsed": false
   },
   "outputs": [
    {
     "data": {
      "text/plain": [
       "array([[ 71,  98,   0,   0,   0,   0,   0,   0,   0,   0],\n",
       "       [ 87, 149,   0,   0,   0,   0,   0,   0,   0,   0],\n",
       "       [ 85,   0,   0,   0,   0,   0,   0,   0,   0,   0],\n",
       "       [ 78,   0,   0,   0,   0,   0,   0,   0,   0,   0],\n",
       "       [ 83,   0,   0,   0,   0,   0,   0,   0,   0,   0],\n",
       "       [ 81,   0,   0,   0,   0,   0,   0,   0,   0,   0],\n",
       "       [ 74,   0,   0,   0,   0,   0,   0,   0,   0,   0],\n",
       "       [ 76,   0,   0,   0,   0,   0,   0,   0,   0,   0],\n",
       "       [ 82,   0,   0,   0,   0,   0,   0,   0,   0,   0],\n",
       "       [111,   0,   0,   0,   0,   0,   0,   0,   0,   0],\n",
       "       [  0,   0,   0,   0,   0,   0,   0,   0,   0,   0],\n",
       "       [  0,   0,   0,   0,   0,   0,   0,   0,   0,   0],\n",
       "       [  0,   0,   0,   0,   0,   0,   0,   0,   0,   0],\n",
       "       [  0,   0,   0,   0,   0,   0,   0,   0,   0,   0],\n",
       "       [  0,   0,   0,   0,   0,   0,   0,   0,   0,   0],\n",
       "       [  0,   0,   0,   0,   0,   0,   0,   0,   0,   0],\n",
       "       [  0,   0,   0,   0,   0,   0,   0,   0,   0,   0],\n",
       "       [  0,   0,   0,   0,   0,   0,   0,   0,   0,   0],\n",
       "       [  0,   0,   0,   0,   0,   0,   0,   0,   0,   0],\n",
       "       [  0,   0,   0,   0,   0,   0,   0,   0,   0,   0],\n",
       "       [  0,   0,   0,   0,   0,   0,   0,   0,   0,   0],\n",
       "       [137,   0,   0,   0,   0,   0,   0,   0,   0,   0],\n",
       "       [ 94, 115, 126, 134,   0,   0,   0,   0,   0,   0],\n",
       "       [120,  92,  83, 110,   0,   0,   0,   0,   0,   0],\n",
       "       [  0,   0, 134, 104,   0,   0,   0,   0,   0,   0],\n",
       "       [  0,   0,   0,   0,   0,   0,   0,   0,   0,   0],\n",
       "       [  0,   0,   0,   0,   0,   0,   0,   0,   0,   0],\n",
       "       [  0,   0,   0,   0,   0,   0,   0,   0,   0,   0],\n",
       "       [119,   0,   0,   0,   0,   0,   0,   0,   0,   0],\n",
       "       [ 93, 119,   0,   0,   0,   0,   0,   0,   0,   0],\n",
       "       [124,  93, 131,   0,   0,   0,   0,   0,   0,   0],\n",
       "       [163,  92, 107,   0,   0,   0,   0,   0,   0,   0],\n",
       "       [  0, 109,  89,   0,   0,   0,   0,   0,   0,   0],\n",
       "       [  0,  97,  92,   0,   0,   0,   0,   0,   0,   0],\n",
       "       [  0,  98, 103,   0,   0,   0,   0,   0,   0,   0],\n",
       "       [137,  95, 125,   0,   0,   0,   0,   0,   0,   0],\n",
       "       [ 96,  96,   0,   0,   0,   0,   0,   0,   0,   0],\n",
       "       [102, 140,   0,   0,   0,   0,   0,   0,   0,   0],\n",
       "       [  0,   0,   0,   0,   0,   0,   0,   0,   0,   0],\n",
       "       [  0,   0,   0,   0,   0,   0,   0,   0,   0,   0],\n",
       "       [  0,   0,   0,   0,   0,   0,   0,   0,   0,   0],\n",
       "       [  0,   0,   0,   0,   0,   0,   0,   0,   0,   0],\n",
       "       [  0,   0,   0,   0,   0,   0,   0,   0,   0,   0],\n",
       "       [  0,   0,   0,   0,   0,   0,   0,   0,   0,   0]], dtype=uint8)"
      ]
     },
     "execution_count": 297,
     "metadata": {},
     "output_type": "execute_result"
    }
   ],
   "source": [
    "newimg[:, :, -1][:, -10:]"
   ]
  },
  {
   "cell_type": "code",
   "execution_count": 298,
   "metadata": {
    "collapsed": false,
    "scrolled": true
   },
   "outputs": [
    {
     "data": {
      "text/plain": [
       "array([[  0,   0,   0],\n",
       "       [  0,   0,   0],\n",
       "       [ 83,  57,  81],\n",
       "       [ 96,  70,  94],\n",
       "       [ 76,  50,  74],\n",
       "       [ 82,  60,  85],\n",
       "       [ 84,  68,  92],\n",
       "       [ 68,  58,  81],\n",
       "       [ 56,  53,  78],\n",
       "       [ 57,  59,  83],\n",
       "       [ 58,  60,  84],\n",
       "       [ 61,  61,  85],\n",
       "       [ 68,  61,  88],\n",
       "       [ 71,  56,  84],\n",
       "       [ 77,  55,  84],\n",
       "       [ 89,  63,  93],\n",
       "       [176, 159, 180],\n",
       "       [180, 163, 184],\n",
       "       [176, 162, 180],\n",
       "       [170, 160, 177],\n",
       "       [171, 164, 179],\n",
       "       [166, 164, 176],\n",
       "       [164, 164, 176],\n",
       "       [168, 170, 180],\n",
       "       [141, 146, 155],\n",
       "       [  0,   0,   0],\n",
       "       [  0,   0,   0],\n",
       "       [  0,   0,   0],\n",
       "       [  0,   0,   0],\n",
       "       [  0,   0,   0],\n",
       "       [  0,   0,   0],\n",
       "       [  0,   0,   0],\n",
       "       [  0,   0,   0],\n",
       "       [  0,   0,   0],\n",
       "       [  0,   0,   0],\n",
       "       [  0,   0,   0],\n",
       "       [  0,   0,   0],\n",
       "       [  0,   0,   0],\n",
       "       [  0,   0,   0],\n",
       "       [  0,   0,   0],\n",
       "       [  0,   0,   0],\n",
       "       [  0,   0,   0],\n",
       "       [  0,   0,   0],\n",
       "       [  0,   0,   0]], dtype=uint8)"
      ]
     },
     "execution_count": 298,
     "metadata": {},
     "output_type": "execute_result"
    }
   ],
   "source": [
    "newimg[:, 0]"
   ]
  },
  {
   "cell_type": "code",
   "execution_count": 304,
   "metadata": {
    "collapsed": false
   },
   "outputs": [],
   "source": [
    "green = newimg[:, :, -1].copy()\n",
    "green[green<=average] = 0\n",
    "cv2.imwrite('result/green56.jpg', green)\n",
    "cv2.imshow('green', green)\n",
    "cv2.waitKey(0)\n",
    "cv2.destroyAllWindows()"
   ]
  },
  {
   "cell_type": "code",
   "execution_count": 305,
   "metadata": {
    "collapsed": true
   },
   "outputs": [],
   "source": [
    "blur = cv2.GaussianBlur(green,(5,5),0)\n",
    "retgreen,thgreen = cv2.threshold(blur,0,255,cv2.THRESH_BINARY+cv2.THRESH_OTSU)\n",
    "\n",
    "cv2.imwrite('result/thgreen.jpg', thgreen)\n",
    "cv2.imshow('green', thgreen)\n",
    "cv2.waitKey(0)\n",
    "cv2.destroyAllWindows()"
   ]
  },
  {
   "cell_type": "code",
   "execution_count": null,
   "metadata": {
    "collapsed": true
   },
   "outputs": [],
   "source": []
  }
 ],
 "metadata": {
  "kernelspec": {
   "display_name": "Python 2",
   "language": "python",
   "name": "python2"
  },
  "language_info": {
   "codemirror_mode": {
    "name": "ipython",
    "version": 2
   },
   "file_extension": ".py",
   "mimetype": "text/x-python",
   "name": "python",
   "nbconvert_exporter": "python",
   "pygments_lexer": "ipython2",
   "version": "2.7.13"
  }
 },
 "nbformat": 4,
 "nbformat_minor": 2
}
