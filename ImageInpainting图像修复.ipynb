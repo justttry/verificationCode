{
 "cells": [
  {
   "cell_type": "code",
   "execution_count": 155,
   "metadata": {
    "collapsed": true
   },
   "outputs": [],
   "source": [
    "sample = 'sample/yanzhengma525.png'"
   ]
  },
  {
   "cell_type": "code",
   "execution_count": 156,
   "metadata": {
    "collapsed": false
   },
   "outputs": [
    {
     "data": {
      "image/png": "[encoded data removed]",
      "text/plain": [
       "<matplotlib.figure.Figure at 0x96caa90>"
      ]
     },
     "metadata": {},
     "output_type": "display_data"
    }
   ],
   "source": [
    "import cv2\n",
    "import numpy as np\n",
    "from matplotlib import pyplot as plt\n",
    "\n",
    "img = cv2.imread(sample)\n",
    "cv2.imwrite('result/sample.jpg', img)\n",
    "color = ('b','g','r')\n",
    "for i,col in enumerate(color):\n",
    "    histr = cv2.calcHist([img],[i],None,[256],[0,256])\n",
    "    plt.plot(histr,color = col)\n",
    "    plt.xlim([0,256])\n",
    "plt.show()"
   ]
  },
  {
   "cell_type": "code",
   "execution_count": 157,
   "metadata": {
    "collapsed": false,
    "scrolled": true
   },
   "outputs": [
    {
     "data": {
      "text/plain": [
       "array([[[170, 172, 172],\n",
       "        [170, 172, 172],\n",
       "        [170, 172, 172],\n",
       "        ..., \n",
       "        [170, 173, 171],\n",
       "        [167, 169, 169],\n",
       "        [164, 166, 166]],\n",
       "\n",
       "       [[170, 172, 172],\n",
       "        [170, 172, 172],\n",
       "        [170, 172, 172],\n",
       "        ..., \n",
       "        [171, 174, 172],\n",
       "        [166, 168, 168],\n",
       "        [162, 164, 164]],\n",
       "\n",
       "       [[170, 172, 172],\n",
       "        [170, 172, 172],\n",
       "        [170, 172, 172],\n",
       "        ..., \n",
       "        [170, 173, 171],\n",
       "        [166, 168, 168],\n",
       "        [161, 163, 163]],\n",
       "\n",
       "       ..., \n",
       "       [[170, 173, 164],\n",
       "        [173, 176, 167],\n",
       "        [ 48,  50,  44],\n",
       "        ..., \n",
       "        [159, 160, 158],\n",
       "        [110, 112, 106],\n",
       "        [ 51,  55,  44]],\n",
       "\n",
       "       [[170, 173, 164],\n",
       "        [173, 176, 167],\n",
       "        [ 48,  50,  44],\n",
       "        ..., \n",
       "        [171, 172, 170],\n",
       "        [133, 135, 129],\n",
       "        [ 57,  60,  51]],\n",
       "\n",
       "       [[170, 173, 164],\n",
       "        [173, 176, 167],\n",
       "        [ 48,  50,  44],\n",
       "        ..., \n",
       "        [175, 175, 175],\n",
       "        [151, 152, 148],\n",
       "        [ 56,  59,  50]]], dtype=uint8)"
      ]
     },
     "execution_count": 157,
     "metadata": {},
     "output_type": "execute_result"
    }
   ],
   "source": [
    "img.shape\n",
    "img"
   ]
  },
  {
   "cell_type": "code",
   "execution_count": 158,
   "metadata": {
    "collapsed": false
   },
   "outputs": [
    {
     "data": {
      "text/plain": [
       "array([[170, 170, 170, ..., 170, 167, 164],\n",
       "       [170, 170, 170, ..., 171, 166, 162],\n",
       "       [170, 170, 170, ..., 170, 166, 161],\n",
       "       ..., \n",
       "       [170, 173,  48, ..., 159, 110,  51],\n",
       "       [170, 173,  48, ..., 171, 133,  57],\n",
       "       [170, 173,  48, ..., 175, 151,  56]], dtype=uint8)"
      ]
     },
     "execution_count": 158,
     "metadata": {},
     "output_type": "execute_result"
    }
   ],
   "source": [
    "a = img[:, :, 0]\n",
    "a.shape\n",
    "a"
   ]
  },
  {
   "cell_type": "code",
   "execution_count": 159,
   "metadata": {
    "collapsed": false
   },
   "outputs": [
    {
     "data": {
      "text/plain": [
       "True"
      ]
     },
     "execution_count": 159,
     "metadata": {},
     "output_type": "execute_result"
    }
   ],
   "source": [
    "import numpy as np\n",
    "import cv2\n",
    "\n",
    "img = cv2.imread(sample,0)\n",
    "\n",
    "# create a CLAHE object (Arguments are optional).\n",
    "clahe = cv2.createCLAHE(clipLimit=2.0, tileGridSize=(8,8))\n",
    "cl1 = clahe.apply(img)\n",
    "\n",
    "cv2.imwrite('result/test1.jpg',cl1)"
   ]
  },
  {
   "cell_type": "code",
   "execution_count": 160,
   "metadata": {
    "collapsed": false
   },
   "outputs": [
    {
     "data": {
      "text/plain": [
       "(44L, 140L)"
      ]
     },
     "execution_count": 160,
     "metadata": {},
     "output_type": "execute_result"
    }
   ],
   "source": [
    "img.shape"
   ]
  },
  {
   "cell_type": "code",
   "execution_count": 161,
   "metadata": {
    "collapsed": false
   },
   "outputs": [
    {
     "data": {
      "image/png": "[encoded data removed]",
      "text/plain": [
       "<matplotlib.figure.Figure at 0x96c26d8>"
      ]
     },
     "metadata": {},
     "output_type": "display_data"
    },
    {
     "data": {
      "image/png": "[encoded data removed]",
      "text/plain": [
       "<matplotlib.figure.Figure at 0x10684d30>"
      ]
     },
     "metadata": {},
     "output_type": "display_data"
    }
   ],
   "source": [
    "import cv2\n",
    "import numpy as np\n",
    "from matplotlib import pyplot as plt\n",
    "\n",
    "img = cv2.imread(sample,0)\n",
    "plt.hist(img.ravel(),256,[0,256]); plt.show()\n",
    "\n",
    "equ = cv2.equalizeHist(img)\n",
    "plt.hist(equ.ravel(),256,[0,256]); plt.show()\n",
    "cv2.imwrite('result/res1.png',equ)\n",
    "cv2.imshow('image', equ)\n",
    "cv2.waitKey(0)\n",
    "cv2.destroyAllWindows()"
   ]
  },
  {
   "cell_type": "code",
   "execution_count": 162,
   "metadata": {
    "collapsed": false
   },
   "outputs": [],
   "source": [
    "\n",
    "blur = cv2.GaussianBlur(img,(5,5),0)\n",
    "ret3,th3 = cv2.threshold(blur,0,255,cv2.THRESH_BINARY+cv2.THRESH_OTSU)\n",
    "cv2.imwrite('result/test2.jpg',th3)\n",
    "cv2.imshow('image2', th3)\n",
    "cv2.imshow('img', img)\n",
    "cv2.waitKey(0)\n",
    "cv2.destroyAllWindows()"
   ]
  },
  {
   "cell_type": "code",
   "execution_count": 163,
   "metadata": {
    "collapsed": false
   },
   "outputs": [
    {
     "data": {
      "text/plain": [
       "(44L, 140L, 3L)"
      ]
     },
     "execution_count": 163,
     "metadata": {},
     "output_type": "execute_result"
    }
   ],
   "source": [
    "import cv2\n",
    "import numpy as np\n",
    "from matplotlib import pyplot as plt\n",
    "\n",
    "img0 = cv2.imread(sample)\n",
    "cv2.imshow('b', img0)\n",
    "cv2.waitKey(0)\n",
    "cv2.destroyAllWindows()\n",
    "img0.shape"
   ]
  },
  {
   "cell_type": "code",
   "execution_count": 164,
   "metadata": {
    "collapsed": false
   },
   "outputs": [
    {
     "data": {
      "image/png": "[encoded data removed]",
      "text/plain": [
       "<matplotlib.figure.Figure at 0x9978860>"
      ]
     },
     "metadata": {},
     "output_type": "display_data"
    }
   ],
   "source": [
    "import cv2\n",
    "import numpy as np\n",
    "from matplotlib import pyplot as plt\n",
    "\n",
    "img = cv2.imread(sample)\n",
    "color = ('b','g','r')\n",
    "for i,col in enumerate(color):\n",
    "    histr = cv2.calcHist([img],[i],None,[256],[0,256])\n",
    "    plt.plot(histr,color = col)\n",
    "    plt.xlim([0,256])\n",
    "plt.show()\n",
    "\n",
    "ret,thresh1 = cv2.threshold(img,175,180,cv2.THRESH_BINARY)\n",
    "cv2.imshow('image', img)\n",
    "cv2.imshow('thresh', thresh1)\n",
    "cv2.waitKey(0)\n",
    "cv2.destroyAllWindows()"
   ]
  },
  {
   "cell_type": "code",
   "execution_count": 165,
   "metadata": {
    "collapsed": false
   },
   "outputs": [],
   "source": [
    "histb = cv2.calcHist([img], [0], None, [256], [0, 256])\n",
    "histr = cv2.calcHist([img], [1], None, [256], [0, 256])\n",
    "histg = cv2.calcHist([img], [2], None, [256], [0, 256])"
   ]
  },
  {
   "cell_type": "code",
   "execution_count": 166,
   "metadata": {
    "collapsed": false
   },
   "outputs": [
    {
     "name": "stdout",
     "output_type": "stream",
     "text": [
      "576.0\n"
     ]
    },
    {
     "data": {
      "text/plain": [
       "(array([170], dtype=int64), array([0], dtype=int64))"
      ]
     },
     "execution_count": 166,
     "metadata": {},
     "output_type": "execute_result"
    }
   ],
   "source": [
    "maxb = max(histb)[0]\n",
    "print maxb\n",
    "np.where(histb==maxb)"
   ]
  },
  {
   "cell_type": "code",
   "execution_count": 167,
   "metadata": {
    "collapsed": false
   },
   "outputs": [
    {
     "name": "stdout",
     "output_type": "stream",
     "text": [
      "576.0\n",
      "170\n",
      "626.0\n",
      "172\n",
      "675.0\n",
      "172\n"
     ]
    }
   ],
   "source": [
    "maxb = max(histb)[0]\n",
    "print maxb\n",
    "b = np.where(histb==maxb)[0][0]\n",
    "print b\n",
    "maxr = max(histr)[0]\n",
    "print maxr\n",
    "r = np.where(histr==maxr)[0][0]\n",
    "print r\n",
    "maxg = max(histg)[0]\n",
    "print maxg\n",
    "g = np.where(histg==maxg)[0][0]\n",
    "print g"
   ]
  },
  {
   "cell_type": "code",
   "execution_count": 168,
   "metadata": {
    "collapsed": true
   },
   "outputs": [],
   "source": [
    "cv2.imshow('img', img)\n",
    "cv2.waitKey(0)\n",
    "cv2.destroyAllWindows()"
   ]
  },
  {
   "cell_type": "code",
   "execution_count": 169,
   "metadata": {
    "collapsed": false
   },
   "outputs": [
    {
     "name": "stdout",
     "output_type": "stream",
     "text": [
      "[[False False  True  True  True]\n",
      " [False  True  True  True  True]]\n",
      "[[ True  True  True  True  True]\n",
      " [ True  True False False False]]\n",
      "[[False False  True  True  True]\n",
      " [False  True False False False]]\n"
     ]
    }
   ],
   "source": [
    "aa = np.array([[1, 2, 3, 4, 5], [0, 6, 7, 8, 9]])\n",
    "bb = aa[:, :] >= 3\n",
    "cc = aa[:, :] <= 6\n",
    "print bb\n",
    "print cc\n",
    "dd = bb & cc\n",
    "print dd"
   ]
  },
  {
   "cell_type": "code",
   "execution_count": 170,
   "metadata": {
    "collapsed": false
   },
   "outputs": [
    {
     "data": {
      "text/plain": [
       "array([[170, 172, 172],\n",
       "       [170, 172, 172],\n",
       "       [170, 172, 172],\n",
       "       ..., \n",
       "       [168, 170, 170],\n",
       "       [171, 173, 167],\n",
       "       [168, 167, 169]], dtype=uint8)"
      ]
     },
     "execution_count": 170,
     "metadata": {},
     "output_type": "execute_result"
    }
   ],
   "source": [
    "newimg = img.copy()\n",
    "ee = newimg[:, :, 0]>=b-2\n",
    "ff = newimg[:, :, 0]<=b+2\n",
    "gg = ee & ff\n",
    "newimg[gg]"
   ]
  },
  {
   "cell_type": "code",
   "execution_count": 171,
   "metadata": {
    "collapsed": true
   },
   "outputs": [],
   "source": [
    "def calcbool(img, axis, val, thresh):\n",
    "    a = img[:, :, axis] >= val - thresh\n",
    "    b = img[:, :, axis] <= val + thresh\n",
    "    return a & b"
   ]
  },
  {
   "cell_type": "code",
   "execution_count": 172,
   "metadata": {
    "collapsed": false
   },
   "outputs": [],
   "source": [
    "newimg = img.copy()\n",
    "newimg[calcbool(newimg, 0, b, 30)] = 0\n",
    "newimg[calcbool(newimg, 1, r, 30)] = 0\n",
    "newimg[calcbool(newimg, 2, g, 30)] = 0"
   ]
  },
  {
   "cell_type": "code",
   "execution_count": 173,
   "metadata": {
    "collapsed": false
   },
   "outputs": [],
   "source": [
    "cv2.imwrite('result/test3.jpg', newimg)\n",
    "cv2.imshow('newimg', newimg)\n",
    "cv2.imshow('img', img)\n",
    "cv2.waitKey(0)\n",
    "cv2.destroyAllWindows()"
   ]
  },
  {
   "cell_type": "code",
   "execution_count": 174,
   "metadata": {
    "collapsed": false
   },
   "outputs": [
    {
     "data": {
      "text/plain": [
       "(44L, 140L, 3L)"
      ]
     },
     "execution_count": 174,
     "metadata": {},
     "output_type": "execute_result"
    }
   ],
   "source": [
    "newimg.shape"
   ]
  },
  {
   "cell_type": "code",
   "execution_count": 175,
   "metadata": {
    "collapsed": false
   },
   "outputs": [],
   "source": [
    "newimg1 = newimg[:, :, 0]\n",
    "newimg2 = newimg[:, :, 1]\n",
    "newimg3 = newimg[:, :, 2]\n",
    "blur1 = cv2.GaussianBlur(newimg1,(5,5),0)\n",
    "ret31,th31 = cv2.threshold(blur1,0,255,cv2.THRESH_BINARY+cv2.THRESH_OTSU)\n",
    "blur2 = cv2.GaussianBlur(newimg2,(5,5),0)\n",
    "ret32,th32 = cv2.threshold(blur2,0,255,cv2.THRESH_BINARY+cv2.THRESH_OTSU)\n",
    "blur3 = cv2.GaussianBlur(newimg3,(5,5),0)\n",
    "ret33,th33 = cv2.threshold(blur3,0,255,cv2.THRESH_BINARY+cv2.THRESH_OTSU)\n",
    "cv2.imshow('image21', th31)\n",
    "cv2.imshow('image22', th32)\n",
    "cv2.imshow('image23', th33)\n",
    "cv2.waitKey(0)\n",
    "cv2.destroyAllWindows()"
   ]
  },
  {
   "cell_type": "code",
   "execution_count": 176,
   "metadata": {
    "collapsed": false
   },
   "outputs": [
    {
     "data": {
      "text/plain": [
       "array([[  0,   0,   0, ...,   0,   0,   0],\n",
       "       [  0,   0,   0, ...,   0,   0,   0],\n",
       "       [  0,   0,   0, ...,   0,   0,   0],\n",
       "       ..., \n",
       "       [  0,   0, 255, ..., 255, 255, 255],\n",
       "       [  0,   0, 255, ..., 255, 255, 255],\n",
       "       [  0,   0, 255, ..., 255, 255, 255]], dtype=uint8)"
      ]
     },
     "execution_count": 176,
     "metadata": {},
     "output_type": "execute_result"
    }
   ],
   "source": [
    "th31"
   ]
  },
  {
   "cell_type": "code",
   "execution_count": 177,
   "metadata": {
    "collapsed": false
   },
   "outputs": [
    {
     "data": {
      "text/plain": [
       "array([255, 255, 255, ..., 255, 255, 255], dtype=uint8)"
      ]
     },
     "execution_count": 177,
     "metadata": {},
     "output_type": "execute_result"
    }
   ],
   "source": [
    "th31[th31!=0]"
   ]
  },
  {
   "cell_type": "code",
   "execution_count": 178,
   "metadata": {
    "collapsed": true
   },
   "outputs": [],
   "source": [
    "a = np.array([[112], [223]])\n",
    "b = np.array([[255], [255]])\n",
    "c = np.array([[0], [255]])"
   ]
  },
  {
   "cell_type": "code",
   "execution_count": 179,
   "metadata": {
    "collapsed": false
   },
   "outputs": [
    {
     "name": "stdout",
     "output_type": "stream",
     "text": [
      "[[28560]\n",
      " [56865]]\n"
     ]
    },
    {
     "data": {
      "text/plain": [
       "array([[28560],\n",
       "       [56865]])"
      ]
     },
     "execution_count": 179,
     "metadata": {},
     "output_type": "execute_result"
    }
   ],
   "source": [
    "print a * b\n",
    "a*b.astype('uint8')"
   ]
  },
  {
   "cell_type": "code",
   "execution_count": 180,
   "metadata": {
    "collapsed": false
   },
   "outputs": [
    {
     "data": {
      "text/plain": [
       "array([[112, 255,   0],\n",
       "       [223, 255, 255]])"
      ]
     },
     "execution_count": 180,
     "metadata": {},
     "output_type": "execute_result"
    }
   ],
   "source": [
    "np.hstack((a, b, c))"
   ]
  },
  {
   "cell_type": "code",
   "execution_count": 181,
   "metadata": {
    "collapsed": false
   },
   "outputs": [
    {
     "data": {
      "text/plain": [
       "array([[[112, 255,   0]],\n",
       "\n",
       "       [[223, 255, 255]]])"
      ]
     },
     "execution_count": 181,
     "metadata": {},
     "output_type": "execute_result"
    }
   ],
   "source": [
    "np.dstack((a, b, c))"
   ]
  },
  {
   "cell_type": "code",
   "execution_count": 182,
   "metadata": {
    "collapsed": true
   },
   "outputs": [],
   "source": [
    "th3 = np.hstack((th31, th32, th33))\n",
    "cv2.imshow('th3', th3)\n",
    "cv2.waitKey(0)\n",
    "cv2.destroyAllWindows()"
   ]
  },
  {
   "cell_type": "code",
   "execution_count": 183,
   "metadata": {
    "collapsed": false
   },
   "outputs": [],
   "source": [
    "th3 = np.dstack((th31, th32, th33))\n",
    "cv2.imshow('th3', th3)\n",
    "cv2.waitKey(0)\n",
    "cv2.destroyAllWindows()"
   ]
  },
  {
   "cell_type": "code",
   "execution_count": 184,
   "metadata": {
    "collapsed": false
   },
   "outputs": [
    {
     "name": "stdout",
     "output_type": "stream",
     "text": [
      "(44L, 140L)\n"
     ]
    }
   ],
   "source": [
    "th4 = th31 * th32 * th33\n",
    "print th4.shape"
   ]
  },
  {
   "cell_type": "code",
   "execution_count": 185,
   "metadata": {
    "collapsed": false
   },
   "outputs": [
    {
     "name": "stdout",
     "output_type": "stream",
     "text": [
      "(44L, 140L, 3L)\n"
     ]
    }
   ],
   "source": [
    "th5 = np.dstack((th4, th4, th4))\n",
    "print th5.shape"
   ]
  },
  {
   "cell_type": "code",
   "execution_count": 186,
   "metadata": {
    "collapsed": true
   },
   "outputs": [],
   "source": [
    "newimg6 = img.copy()\n",
    "newimg6[th5==0] = 0"
   ]
  },
  {
   "cell_type": "code",
   "execution_count": 187,
   "metadata": {
    "collapsed": false
   },
   "outputs": [],
   "source": [
    "cv2.imshow('newimg6', newimg6)\n",
    "cv2.imshow('img', img)\n",
    "cv2.waitKey(0)\n",
    "cv2.destroyAllWindows()"
   ]
  },
  {
   "cell_type": "code",
   "execution_count": 188,
   "metadata": {
    "collapsed": false
   },
   "outputs": [],
   "source": [
    "blur = cv2.GaussianBlur(cv2.cvtColor(newimg6, cv2.COLOR_BGR2GRAY),(5,5),0)\n",
    "retnewimg6,thnewimg6 = cv2.threshold(blur,0,255,cv2.THRESH_BINARY+cv2.THRESH_OTSU)\n",
    "\n",
    "cv2.imshow('green', thnewimg6)\n",
    "cv2.waitKey(0)\n",
    "cv2.destroyAllWindows()"
   ]
  },
  {
   "cell_type": "code",
   "execution_count": 189,
   "metadata": {
    "collapsed": false
   },
   "outputs": [],
   "source": [
    "img1 = cv2.imread(sample)\n",
    "img2 = cv2.imread(sample, 0)"
   ]
  },
  {
   "cell_type": "code",
   "execution_count": 190,
   "metadata": {
    "collapsed": false
   },
   "outputs": [
    {
     "name": "stdout",
     "output_type": "stream",
     "text": [
      "[[[170 172 172]\n",
      "  [170 172 172]\n",
      "  [170 172 172]\n",
      "  ..., \n",
      "  [170 173 171]\n",
      "  [167 169 169]\n",
      "  [164 166 166]]\n",
      "\n",
      " [[170 172 172]\n",
      "  [170 172 172]\n",
      "  [170 172 172]\n",
      "  ..., \n",
      "  [171 174 172]\n",
      "  [166 168 168]\n",
      "  [162 164 164]]\n",
      "\n",
      " [[170 172 172]\n",
      "  [170 172 172]\n",
      "  [170 172 172]\n",
      "  ..., \n",
      "  [170 173 171]\n",
      "  [166 168 168]\n",
      "  [161 163 163]]\n",
      "\n",
      " ..., \n",
      " [[170 173 164]\n",
      "  [173 176 167]\n",
      "  [ 48  50  44]\n",
      "  ..., \n",
      "  [159 160 158]\n",
      "  [110 112 106]\n",
      "  [ 51  55  44]]\n",
      "\n",
      " [[170 173 164]\n",
      "  [173 176 167]\n",
      "  [ 48  50  44]\n",
      "  ..., \n",
      "  [171 172 170]\n",
      "  [133 135 129]\n",
      "  [ 57  60  51]]\n",
      "\n",
      " [[170 173 164]\n",
      "  [173 176 167]\n",
      "  [ 48  50  44]\n",
      "  ..., \n",
      "  [175 175 175]\n",
      "  [151 152 148]\n",
      "  [ 56  59  50]]]\n",
      "------------------------------------------------------------\n",
      "[[172 172 172 ..., 172 169 166]\n",
      " [172 172 172 ..., 173 168 164]\n",
      " [172 172 172 ..., 172 168 163]\n",
      " ..., \n",
      " [170 173  48 ..., 159 110  51]\n",
      " [170 173  48 ..., 171 133  57]\n",
      " [170 173  48 ..., 175 151  56]]\n"
     ]
    }
   ],
   "source": [
    "print img1\n",
    "print '-' * 60\n",
    "print img2"
   ]
  },
  {
   "cell_type": "code",
   "execution_count": 191,
   "metadata": {
    "collapsed": false
   },
   "outputs": [
    {
     "data": {
      "image/png": "[encoded data removed]",
      "text/plain": [
       "<matplotlib.figure.Figure at 0x107461d0>"
      ]
     },
     "metadata": {},
     "output_type": "display_data"
    },
    {
     "data": {
      "image/png": "[encoded data removed]",
      "text/plain": [
       "<matplotlib.figure.Figure at 0x966d9e8>"
      ]
     },
     "metadata": {},
     "output_type": "display_data"
    }
   ],
   "source": [
    "import cv2\n",
    "import numpy as np\n",
    "from matplotlib import pyplot as plt\n",
    "\n",
    "img = cv2.imread(sample,0)\n",
    "plt.hist(img.ravel(),256,[0,256]); plt.show()\n",
    "\n",
    "equ = cv2.equalizeHist(img)\n",
    "plt.hist(equ.ravel(),256,[0,256]); plt.show()\n",
    "cv2.imwrite('result/res1.png',equ)\n",
    "cv2.imshow('image', equ)\n",
    "cv2.waitKey(0)\n",
    "cv2.destroyAllWindows()\n",
    "\n",
    "\n",
    "blur = cv2.GaussianBlur(img,(5,5),0)\n",
    "ret3,th3 = cv2.threshold(blur,0,255,cv2.THRESH_BINARY+cv2.THRESH_OTSU)\n",
    "cv2.imwrite('result/test2.jpg',th3)\n",
    "cv2.imshow('image2', th3)\n",
    "cv2.imshow('img', img)\n",
    "cv2.waitKey(0)\n",
    "cv2.destroyAllWindows()"
   ]
  },
  {
   "cell_type": "code",
   "execution_count": 192,
   "metadata": {
    "collapsed": false
   },
   "outputs": [
    {
     "data": {
      "image/png": "[encoded data removed]",
      "text/plain": [
       "<matplotlib.figure.Figure at 0x1051ada0>"
      ]
     },
     "metadata": {},
     "output_type": "display_data"
    },
    {
     "data": {
      "image/png": "[encoded data removed]",
      "text/plain": [
       "<matplotlib.figure.Figure at 0x7ca2ef0>"
      ]
     },
     "metadata": {},
     "output_type": "display_data"
    }
   ],
   "source": [
    "plt.imshow(th3)\n",
    "plt.show()\n",
    "plt.imshow(img)\n",
    "plt.show()"
   ]
  },
  {
   "cell_type": "code",
   "execution_count": 193,
   "metadata": {
    "collapsed": false
   },
   "outputs": [],
   "source": [
    "a = np.array([[255, 255, 255], [0, 255, 0], [255, 0, 0], [255, 255, 255]])"
   ]
  },
  {
   "cell_type": "code",
   "execution_count": 194,
   "metadata": {
    "collapsed": false
   },
   "outputs": [
    {
     "data": {
      "text/plain": [
       "array([[ True, False,  True],\n",
       "       [False,  True,  True]], dtype=bool)"
      ]
     },
     "execution_count": 194,
     "metadata": {},
     "output_type": "execute_result"
    }
   ],
   "source": [
    "a[1:-1]==0"
   ]
  },
  {
   "cell_type": "code",
   "execution_count": 195,
   "metadata": {
    "collapsed": false
   },
   "outputs": [
    {
     "data": {
      "text/plain": [
       "array([[1, 0, 0],\n",
       "       [0, 1, 0]])"
      ]
     },
     "execution_count": 195,
     "metadata": {},
     "output_type": "execute_result"
    }
   ],
   "source": [
    "(a[:-2] & a[2:]) & (a[1:-1]==0)"
   ]
  },
  {
   "cell_type": "code",
   "execution_count": 196,
   "metadata": {
    "collapsed": true
   },
   "outputs": [],
   "source": [
    "maska = (a[:-2] & a[2:]) & (a[1:-1]==0)"
   ]
  },
  {
   "cell_type": "code",
   "execution_count": 197,
   "metadata": {
    "collapsed": false
   },
   "outputs": [
    {
     "data": {
      "text/plain": [
       "array([[1, 0, 0],\n",
       "       [0, 1, 0]])"
      ]
     },
     "execution_count": 197,
     "metadata": {},
     "output_type": "execute_result"
    }
   ],
   "source": [
    "maska"
   ]
  },
  {
   "cell_type": "code",
   "execution_count": 198,
   "metadata": {
    "collapsed": false
   },
   "outputs": [
    {
     "data": {
      "text/plain": [
       "array([[255, 255, 255],\n",
       "       [255, 255,   0],\n",
       "       [255, 255,   0],\n",
       "       [255, 255, 255]])"
      ]
     },
     "execution_count": 198,
     "metadata": {},
     "output_type": "execute_result"
    }
   ],
   "source": [
    "a[1:-1][maska==1] = 255\n",
    "a"
   ]
  },
  {
   "cell_type": "code",
   "execution_count": 199,
   "metadata": {
    "collapsed": false
   },
   "outputs": [
    {
     "data": {
      "text/plain": [
       "array([[255, 255, 255, ..., 255, 255, 255],\n",
       "       [255, 255, 255, ..., 255, 255, 255],\n",
       "       [255, 255, 255, ..., 255, 255, 255],\n",
       "       ..., \n",
       "       [  0,   0,   0, ...,   0,   0,   0],\n",
       "       [255,   0,   0, ..., 255,   0,   0],\n",
       "       [255,   0,   0, ..., 255,   0,   0]], dtype=uint8)"
      ]
     },
     "execution_count": 199,
     "metadata": {},
     "output_type": "execute_result"
    }
   ],
   "source": [
    "th3[:-2] & th3[2:]"
   ]
  },
  {
   "cell_type": "code",
   "execution_count": 200,
   "metadata": {
    "collapsed": true
   },
   "outputs": [],
   "source": [
    "mask = (th3[:-2] & th3[2:]) & (th3[1:-1]==0)"
   ]
  },
  {
   "cell_type": "code",
   "execution_count": 201,
   "metadata": {
    "collapsed": false
   },
   "outputs": [
    {
     "data": {
      "text/plain": [
       "array([1, 1, 1, 1, 1, 1, 1, 1, 1, 1, 1, 1, 1, 1, 1, 1, 1, 1, 1, 1, 1, 1, 1,\n",
       "       1, 1, 1, 1, 1, 1, 1, 1, 1, 1, 1, 1, 1, 1, 1, 1, 1, 1, 1, 1], dtype=uint8)"
      ]
     },
     "execution_count": 201,
     "metadata": {},
     "output_type": "execute_result"
    }
   ],
   "source": [
    "mask[mask!=0]"
   ]
  },
  {
   "cell_type": "code",
   "execution_count": 202,
   "metadata": {
    "collapsed": true
   },
   "outputs": [],
   "source": [
    "th3[1:-1][mask==1] = 255"
   ]
  },
  {
   "cell_type": "code",
   "execution_count": 203,
   "metadata": {
    "collapsed": true
   },
   "outputs": [],
   "source": [
    "cv2.imshow('th3', th3)\n",
    "cv2.waitKey(0)\n",
    "cv2.destroyAllWindows()"
   ]
  },
  {
   "cell_type": "code",
   "execution_count": 204,
   "metadata": {
    "collapsed": false
   },
   "outputs": [
    {
     "data": {
      "text/plain": [
       "True"
      ]
     },
     "execution_count": 204,
     "metadata": {},
     "output_type": "execute_result"
    }
   ],
   "source": [
    "cv2.imwrite('result/th3.jpg', th3)"
   ]
  },
  {
   "cell_type": "code",
   "execution_count": 205,
   "metadata": {
    "collapsed": false
   },
   "outputs": [
    {
     "data": {
      "image/png": "[encoded data removed]",
      "text/plain": [
       "<matplotlib.figure.Figure at 0x95f1d68>"
      ]
     },
     "metadata": {},
     "output_type": "display_data"
    }
   ],
   "source": [
    "plt.imshow(th3)\n",
    "plt.show()"
   ]
  },
  {
   "cell_type": "code",
   "execution_count": 206,
   "metadata": {
    "collapsed": true
   },
   "outputs": [],
   "source": [
    "newimg = img.copy()\n",
    "cv2.imshow('newimg', newimg)\n",
    "cv2.waitKey(0)\n",
    "cv2.destroyAllWindows()"
   ]
  },
  {
   "cell_type": "code",
   "execution_count": 207,
   "metadata": {
    "collapsed": true
   },
   "outputs": [],
   "source": [
    "newimg[th3!=0] = 0\n",
    "cv2.imshow('newimg', newimg)\n",
    "cv2.waitKey(0)\n",
    "cv2.destroyAllWindows()"
   ]
  },
  {
   "cell_type": "code",
   "execution_count": 208,
   "metadata": {
    "collapsed": false
   },
   "outputs": [
    {
     "data": {
      "text/plain": [
       "(44L, 140L)"
      ]
     },
     "execution_count": 208,
     "metadata": {},
     "output_type": "execute_result"
    }
   ],
   "source": [
    "newimg.shape"
   ]
  },
  {
   "cell_type": "code",
   "execution_count": 209,
   "metadata": {
    "collapsed": false
   },
   "outputs": [
    {
     "data": {
      "text/plain": [
       "array([[  0,   0,   0,   0,   0,   0,   0,   0,   0,   0],\n",
       "       [  0,   0,   0,   0,   0,   0,   0,   0,   0,   0],\n",
       "       [  0,   0,   0,   0,   0,   0,   0,   0,   0,   0],\n",
       "       [  0,   0,   0,   0,   0,   0,   0,   0,   0,   0],\n",
       "       [  0,   0,   0,   0,   0,   0,   0,   0,   0,   0],\n",
       "       [  0,   0,   0,   0,   0,   0,   0,   0,   0,   0],\n",
       "       [  0,   0,   0,   0,   0,   0,   0,   0,   0,   0],\n",
       "       [  0,   0,   0,   0,   0,   0,   0,   0,   0,   0],\n",
       "       [  0,   0,   0,   0,   0,   0,   0,   0,   0, 182],\n",
       "       [  0,   0,   0,   0,   0,   0,   0,   0,   0, 165],\n",
       "       [  0,   0,   0,   0,   0,   0,   0,   0,   0,  46],\n",
       "       [  0,   0,   0,   0,   0,   0,   0,   0,   0,  47],\n",
       "       [  0,   0,   0,   0,   0,   0,   0,   0, 176,  50],\n",
       "       [  0,   0,   0,   0,   0,   0,   0,   0, 149,  54],\n",
       "       [  0,   0,   0,   0,   0,   0,   0,   0,  52,  46],\n",
       "       [  0,   0,   0,   0,   0,   0,   0,   0,  46,  56],\n",
       "       [  0,   0,   0,   0,   0,   0,   0, 172,  49,  47],\n",
       "       [  0,   0,   0,   0,   0,   0,   0, 179,  42,  55],\n",
       "       [  0,   0,   0,   0,   0,   0, 158,  57,  36, 159],\n",
       "       [  0,   0,   0,   0,   0, 136, 137,  35,  85, 179],\n",
       "       [  0,   0,   0,   0,   0, 125, 160,  58,  26, 170],\n",
       "       [  0,   0,   0,   0,   0, 125, 135,  48,  62, 157],\n",
       "       [  0,   0,   0,   0,   0, 129, 143,  66, 153, 161],\n",
       "       [  0,   0,   0,   0,   0, 156,  49,  53, 172,  96],\n",
       "       [  0,   0,   0,   0,   0, 171,  47,  77, 102,  77],\n",
       "       [  0,   0,   0,   0,   0, 179,  48,  61, 105,  47],\n",
       "       [  0,   0,   0,   0,   0, 175,  37,  83, 154, 106],\n",
       "       [  0,   0,   0,   0,   0,  52,  48, 143, 157,   0],\n",
       "       [  0,   0,   0,   0, 180,  51,  39, 151, 141,   0],\n",
       "       [  0,   0,   0,   0,  48,  52,  50,  86,  89,  56],\n",
       "       [  0,   0,   0,   0, 172,  44,  43, 162, 127, 184],\n",
       "       [  0,   0,   0,   0, 175,  48, 179,   0,   0,   0],\n",
       "       [  0,   0,   0,   0,  52,  56, 156,   0,   0,   0],\n",
       "       [  0,   0,   0,   0,  41,  50,  88, 108,   0,   0],\n",
       "       [  0,   0,   0, 191,  48,  73,  69,  53,  79, 132],\n",
       "       [  0,   0,   0, 151,  53, 105,  73,  63,  77,  67],\n",
       "       [  0,   0,   0,  72,  45, 174, 106,  71,  70,  71],\n",
       "       [  0,   0,   0,  32,  50, 180,   0,   0, 105,  55],\n",
       "       [  0,   0, 176,  45,  57, 172,   0,   0,   0,   0],\n",
       "       [  0,   0, 169,  60,  46,   0,   0,   0,   0,   0],\n",
       "       [  0,   0, 159,  46,  60,   0,   0,   0,   0,   0],\n",
       "       [  0,   0,  69,  36, 160,   0,   0,   0,   0,   0],\n",
       "       [  0,   0,  41,  49, 183,   0,   0,   0,   0,   0],\n",
       "       [  0, 173,  55,  60, 158,   0,   0,   0,   0,   0]], dtype=uint8)"
      ]
     },
     "execution_count": 209,
     "metadata": {},
     "output_type": "execute_result"
    }
   ],
   "source": [
    "newimg[:, 11:21]"
   ]
  },
  {
   "cell_type": "code",
   "execution_count": 210,
   "metadata": {
    "collapsed": false
   },
   "outputs": [
    {
     "data": {
      "image/png": "[encoded data removed]",
      "text/plain": [
       "<matplotlib.figure.Figure at 0x95f1198>"
      ]
     },
     "metadata": {},
     "output_type": "display_data"
    }
   ],
   "source": [
    "plt.hist(newimg.ravel(),256,[1,256]); plt.show()"
   ]
  },
  {
   "cell_type": "code",
   "execution_count": 211,
   "metadata": {
    "collapsed": true
   },
   "outputs": [],
   "source": [
    "img = cv2.imread(sample)"
   ]
  },
  {
   "cell_type": "code",
   "execution_count": 212,
   "metadata": {
    "collapsed": false
   },
   "outputs": [],
   "source": [
    "img[:, :, 0][th3!=0] = 0\n",
    "img[:, :, 1][th3!=0] = 0\n",
    "img[:, :, 2][th3!=0] = 0"
   ]
  },
  {
   "cell_type": "code",
   "execution_count": 213,
   "metadata": {
    "collapsed": true
   },
   "outputs": [],
   "source": [
    "cv2.imshow('img', img)\n",
    "cv2.waitKey(0)\n",
    "cv2.destroyAllWindows()"
   ]
  },
  {
   "cell_type": "code",
   "execution_count": 214,
   "metadata": {
    "collapsed": false
   },
   "outputs": [
    {
     "data": {
      "image/png": "[encoded data removed]",
      "text/plain": [
       "<matplotlib.figure.Figure at 0x103fb0b8>"
      ]
     },
     "metadata": {},
     "output_type": "display_data"
    }
   ],
   "source": [
    "color = ('b','g','r')\n",
    "for i,col in enumerate(color):\n",
    "    histr = cv2.calcHist([img],[i],None,[256],[1,256])\n",
    "    plt.plot(histr,color = col)\n",
    "    plt.xlim([1,256])\n",
    "plt.show()"
   ]
  },
  {
   "cell_type": "code",
   "execution_count": 215,
   "metadata": {
    "collapsed": false
   },
   "outputs": [],
   "source": [
    "cols = img.shape[1]\n",
    "nums = range(10) + range(cols-10, cols)\n",
    "cutimg = img[:, nums]\n",
    "cv2.imwrite('result/cutimg.jpg', cutimg)\n",
    "cv2.imshow('cutimg', cutimg)\n",
    "cv2.waitKey(0)\n",
    "cv2.destroyAllWindows()"
   ]
  },
  {
   "cell_type": "code",
   "execution_count": 216,
   "metadata": {
    "collapsed": false
   },
   "outputs": [
    {
     "data": {
      "image/png": "[encoded data removed]",
      "text/plain": [
       "<matplotlib.figure.Figure at 0x993c898>"
      ]
     },
     "metadata": {},
     "output_type": "display_data"
    }
   ],
   "source": [
    "color = ('b','g','r')\n",
    "for i,col in enumerate(color):\n",
    "    histr = cv2.calcHist([cutimg],[i],None,[256],[1,256])\n",
    "    plt.plot(histr,color = col)\n",
    "    plt.xlim([1,256])\n",
    "plt.show()"
   ]
  },
  {
   "cell_type": "code",
   "execution_count": 217,
   "metadata": {
    "collapsed": false
   },
   "outputs": [
    {
     "data": {
      "text/plain": [
       "array([[ 0.],\n",
       "       [ 0.],\n",
       "       [ 0.],\n",
       "       [ 0.],\n",
       "       [ 0.],\n",
       "       [ 0.],\n",
       "       [ 0.],\n",
       "       [ 0.],\n",
       "       [ 0.],\n",
       "       [ 0.],\n",
       "       [ 0.],\n",
       "       [ 0.],\n",
       "       [ 0.],\n",
       "       [ 0.],\n",
       "       [ 0.],\n",
       "       [ 0.],\n",
       "       [ 0.],\n",
       "       [ 0.],\n",
       "       [ 0.],\n",
       "       [ 0.],\n",
       "       [ 0.],\n",
       "       [ 0.],\n",
       "       [ 0.],\n",
       "       [ 0.],\n",
       "       [ 0.],\n",
       "       [ 1.],\n",
       "       [ 0.],\n",
       "       [ 1.],\n",
       "       [ 1.],\n",
       "       [ 2.],\n",
       "       [ 1.],\n",
       "       [ 0.],\n",
       "       [ 1.],\n",
       "       [ 0.],\n",
       "       [ 1.],\n",
       "       [ 3.],\n",
       "       [ 3.],\n",
       "       [ 3.],\n",
       "       [ 3.],\n",
       "       [ 2.],\n",
       "       [ 5.],\n",
       "       [ 4.],\n",
       "       [ 4.],\n",
       "       [ 8.],\n",
       "       [ 8.],\n",
       "       [ 5.],\n",
       "       [ 6.],\n",
       "       [ 5.],\n",
       "       [ 4.],\n",
       "       [ 4.],\n",
       "       [ 2.],\n",
       "       [ 4.],\n",
       "       [ 5.],\n",
       "       [ 4.],\n",
       "       [ 0.],\n",
       "       [ 3.],\n",
       "       [ 0.],\n",
       "       [ 2.],\n",
       "       [ 2.],\n",
       "       [ 0.],\n",
       "       [ 1.],\n",
       "       [ 0.],\n",
       "       [ 0.],\n",
       "       [ 0.],\n",
       "       [ 0.],\n",
       "       [ 1.],\n",
       "       [ 1.],\n",
       "       [ 1.],\n",
       "       [ 0.],\n",
       "       [ 1.],\n",
       "       [ 1.],\n",
       "       [ 0.],\n",
       "       [ 1.],\n",
       "       [ 0.],\n",
       "       [ 1.],\n",
       "       [ 1.],\n",
       "       [ 0.],\n",
       "       [ 2.],\n",
       "       [ 2.],\n",
       "       [ 0.],\n",
       "       [ 0.],\n",
       "       [ 0.],\n",
       "       [ 0.],\n",
       "       [ 0.],\n",
       "       [ 0.],\n",
       "       [ 2.],\n",
       "       [ 1.],\n",
       "       [ 1.],\n",
       "       [ 1.],\n",
       "       [ 1.],\n",
       "       [ 1.],\n",
       "       [ 1.],\n",
       "       [ 0.],\n",
       "       [ 0.],\n",
       "       [ 2.],\n",
       "       [ 0.],\n",
       "       [ 1.],\n",
       "       [ 1.],\n",
       "       [ 0.],\n",
       "       [ 2.],\n",
       "       [ 0.],\n",
       "       [ 0.],\n",
       "       [ 0.],\n",
       "       [ 1.],\n",
       "       [ 0.],\n",
       "       [ 1.],\n",
       "       [ 1.],\n",
       "       [ 1.],\n",
       "       [ 0.],\n",
       "       [ 1.],\n",
       "       [ 0.],\n",
       "       [ 1.],\n",
       "       [ 0.],\n",
       "       [ 0.],\n",
       "       [ 1.],\n",
       "       [ 1.],\n",
       "       [ 1.],\n",
       "       [ 0.],\n",
       "       [ 0.],\n",
       "       [ 0.],\n",
       "       [ 0.],\n",
       "       [ 0.],\n",
       "       [ 0.],\n",
       "       [ 1.],\n",
       "       [ 2.],\n",
       "       [ 1.],\n",
       "       [ 0.],\n",
       "       [ 2.],\n",
       "       [ 1.],\n",
       "       [ 0.],\n",
       "       [ 0.],\n",
       "       [ 0.],\n",
       "       [ 2.],\n",
       "       [ 0.],\n",
       "       [ 1.],\n",
       "       [ 0.],\n",
       "       [ 0.],\n",
       "       [ 0.],\n",
       "       [ 1.],\n",
       "       [ 1.],\n",
       "       [ 0.],\n",
       "       [ 0.],\n",
       "       [ 1.],\n",
       "       [ 0.],\n",
       "       [ 0.],\n",
       "       [ 0.],\n",
       "       [ 1.],\n",
       "       [ 1.],\n",
       "       [ 1.],\n",
       "       [ 1.],\n",
       "       [ 1.],\n",
       "       [ 0.],\n",
       "       [ 1.],\n",
       "       [ 2.],\n",
       "       [ 1.],\n",
       "       [ 4.],\n",
       "       [ 2.],\n",
       "       [ 0.],\n",
       "       [ 0.],\n",
       "       [ 1.],\n",
       "       [ 4.],\n",
       "       [ 1.],\n",
       "       [ 3.],\n",
       "       [ 2.],\n",
       "       [ 2.],\n",
       "       [ 3.],\n",
       "       [ 5.],\n",
       "       [ 3.],\n",
       "       [ 1.],\n",
       "       [ 2.],\n",
       "       [ 5.],\n",
       "       [ 1.],\n",
       "       [ 1.],\n",
       "       [ 2.],\n",
       "       [ 0.],\n",
       "       [ 0.],\n",
       "       [ 1.],\n",
       "       [ 0.],\n",
       "       [ 2.],\n",
       "       [ 2.],\n",
       "       [ 0.],\n",
       "       [ 0.],\n",
       "       [ 0.],\n",
       "       [ 2.],\n",
       "       [ 0.],\n",
       "       [ 0.],\n",
       "       [ 1.],\n",
       "       [ 0.],\n",
       "       [ 0.],\n",
       "       [ 0.],\n",
       "       [ 1.],\n",
       "       [ 0.],\n",
       "       [ 0.],\n",
       "       [ 0.],\n",
       "       [ 0.],\n",
       "       [ 0.],\n",
       "       [ 0.],\n",
       "       [ 0.],\n",
       "       [ 0.],\n",
       "       [ 0.],\n",
       "       [ 0.],\n",
       "       [ 0.],\n",
       "       [ 0.],\n",
       "       [ 0.],\n",
       "       [ 0.],\n",
       "       [ 0.],\n",
       "       [ 0.],\n",
       "       [ 0.],\n",
       "       [ 0.],\n",
       "       [ 0.],\n",
       "       [ 0.],\n",
       "       [ 0.],\n",
       "       [ 0.],\n",
       "       [ 0.],\n",
       "       [ 0.],\n",
       "       [ 0.],\n",
       "       [ 0.],\n",
       "       [ 0.],\n",
       "       [ 0.],\n",
       "       [ 0.],\n",
       "       [ 0.],\n",
       "       [ 0.],\n",
       "       [ 0.],\n",
       "       [ 0.],\n",
       "       [ 0.],\n",
       "       [ 0.],\n",
       "       [ 0.],\n",
       "       [ 0.],\n",
       "       [ 0.],\n",
       "       [ 0.],\n",
       "       [ 0.],\n",
       "       [ 0.],\n",
       "       [ 0.],\n",
       "       [ 0.],\n",
       "       [ 0.],\n",
       "       [ 0.],\n",
       "       [ 0.],\n",
       "       [ 0.],\n",
       "       [ 0.],\n",
       "       [ 0.],\n",
       "       [ 0.],\n",
       "       [ 0.],\n",
       "       [ 0.],\n",
       "       [ 0.],\n",
       "       [ 0.],\n",
       "       [ 0.],\n",
       "       [ 0.],\n",
       "       [ 0.],\n",
       "       [ 0.],\n",
       "       [ 0.],\n",
       "       [ 0.],\n",
       "       [ 0.],\n",
       "       [ 0.],\n",
       "       [ 0.],\n",
       "       [ 0.],\n",
       "       [ 0.]], dtype=float32)"
      ]
     },
     "execution_count": 217,
     "metadata": {},
     "output_type": "execute_result"
    }
   ],
   "source": [
    "histr = cv2.calcHist([cutimg],[2],None,[256],[1,256])\n",
    "histr"
   ]
  },
  {
   "cell_type": "code",
   "execution_count": 218,
   "metadata": {
    "collapsed": false
   },
   "outputs": [
    {
     "name": "stdout",
     "output_type": "stream",
     "text": [
      "(array([ 40,  43,  44,  45,  46,  47,  52, 166, 170], dtype=int64), array([0, 0, 0, 0, 0, 0, 0, 0, 0], dtype=int64))\n",
      "72.5555555556\n"
     ]
    }
   ],
   "source": [
    "maxpix = np.where(histr>4)\n",
    "print maxpix\n",
    "average = np.average(maxpix[0])\n",
    "print average"
   ]
  },
  {
   "cell_type": "code",
   "execution_count": 219,
   "metadata": {
    "collapsed": false
   },
   "outputs": [],
   "source": [
    "#newimg = cv2.cvtColor(img, cv2.COLOR_RGB2GRAY).copy()\n",
    "newimg = img[:, :, 1]\n",
    "cv2.imshow('newimg', newimg)\n",
    "cv2.waitKey(0)\n",
    "cv2.destroyAllWindows()"
   ]
  },
  {
   "cell_type": "code",
   "execution_count": 220,
   "metadata": {
    "collapsed": false
   },
   "outputs": [
    {
     "data": {
      "text/plain": [
       "array([[  0,   0,   0,   0,   0,   0,   0,   0,   0,   0],\n",
       "       [159,   0,   0,   0,   0,   0,   0,   0,   0,   0],\n",
       "       [ 50,   0,   0,   0,   0,   0,   0,   0,   0,   0],\n",
       "       [ 49, 196,   0,   0,   0,   0,   0,   0,   0,   0],\n",
       "       [ 67,  34,   0,   0,   0,   0,   0,   0,   0,   0],\n",
       "       [ 47,  80, 168,   0,   0,   0,   0,   0,   0,   0],\n",
       "       [ 51,  31,  46,   0,   0,   0,   0,   0,   0,   0],\n",
       "       [ 47,  56,  61,   0,   0,   0,   0,   0,   0,   0],\n",
       "       [173,  58,  48, 185,   0,   0,   0,   0,   0,   0],\n",
       "       [186,  43,  35, 161,   0,   0,   0,   0,   0,   0],\n",
       "       [  0,  33,  61,  63,   0,   0,   0,   0,   0,   0],\n",
       "       [  0, 184,  43,  48,   0,   0,   0,   0,   0,   0],\n",
       "       [  0, 159,  73,  43, 176,   0,   0,   0,   0,   0],\n",
       "       [  0,   0,  55,  53, 161,   0,   0,   0,   0,   0],\n",
       "       [  0,   0, 178,  51,  81,   0,   0,   0,   0,   0],\n",
       "       [  0,   0, 165,  53,  41, 176,   0,   0,   0,   0],\n",
       "       [  0,   0, 154,  43,  54, 168,   0,   0,   0,   0],\n",
       "       [ 93,  82, 112,  73,  79, 133,   0,   0,   0,   0],\n",
       "       [ 90,  87,  97,  78,  79,  96,   0,   0,   0,   0],\n",
       "       [  0, 160, 125,  90, 104, 126, 157,   0,   0,   0],\n",
       "       [  0, 160, 104,  88, 113,  99, 151,   0,   0,   0],\n",
       "       [  0, 107,  78, 108, 129,  37, 185,   0,   0,   0],\n",
       "       [135,  89, 116, 155, 171,  51, 162,   0,   0,   0],\n",
       "       [ 92,  86, 142, 140, 150,  55,  54,   0,   0,   0],\n",
       "       [ 83, 134,   0,   0, 127,  56,  45, 181,   0,   0],\n",
       "       [114,   0,   0,   0, 127,  49,  60, 168,   0,   0],\n",
       "       [  0,   0,   0,   0, 135,  75,  64, 128,   0,   0],\n",
       "       [  0,   0,   0,   0,   0, 156,  50,  76,   0,   0],\n",
       "       [  0,   0,   0,   0,   0, 182,  44,  47,   0,   0],\n",
       "       [  0,   0,   0,   0,   0, 168,  53,  49, 174,   0],\n",
       "       [  0,   0,   0,   0,   0,   0,  53,  57, 170,   0],\n",
       "       [  0,   0,   0,   0,   0,   0,  43,  56, 160,   0],\n",
       "       [  0,   0,   0,   0,   0,   0, 165,  68,  41, 174],\n",
       "       [  0,   0,   0,   0,   0,   0, 172,  56,  51, 168],\n",
       "       [  0,   0,   0,   0,   0,   0,   0,  35,  51, 189],\n",
       "       [  0,   0,   0,   0,   0,   0,   0,  63,  48, 167],\n",
       "       [  0,   0,   0,   0,   0,   0,   0, 161,  50,  62],\n",
       "       [  0,   0,   0,   0,   0,   0,   0, 188,  47,  40],\n",
       "       [  0,   0,   0,   0,   0,   0,   0, 165,  46,  61],\n",
       "       [  0,   0,   0,   0,   0,   0,   0, 151,  55,  55],\n",
       "       [  0,   0,   0,   0,   0,   0,   0,   0,  93,  47],\n",
       "       [  0,   0,   0,   0,   0,   0,   0,   0, 112,  55],\n",
       "       [  0,   0,   0,   0,   0,   0,   0,   0, 135,  60],\n",
       "       [ 56,  51,  56,  53,   0,   0,   0,   0, 152,  59]], dtype=uint8)"
      ]
     },
     "execution_count": 220,
     "metadata": {},
     "output_type": "execute_result"
    }
   ],
   "source": [
    "newimg[:, -10:]"
   ]
  },
  {
   "cell_type": "code",
   "execution_count": 221,
   "metadata": {
    "collapsed": false,
    "scrolled": true
   },
   "outputs": [
    {
     "data": {
      "text/plain": [
       "array([  0,   0,   0,   0,   0,   0,   0,   0,   0,   0,   0,   0,   0,\n",
       "         0,   0,   0,   0,   0,   0,   0,   0,   0,   0,   0,   0,   0,\n",
       "         0,  32,  69,  41,  45,  58,  46,  54,  46,  55, 170, 180, 171,\n",
       "       179,   0,   0,   0,   0], dtype=uint8)"
      ]
     },
     "execution_count": 221,
     "metadata": {},
     "output_type": "execute_result"
    }
   ],
   "source": [
    "newimg[:, 0]"
   ]
  },
  {
   "cell_type": "code",
   "execution_count": 222,
   "metadata": {
    "collapsed": false
   },
   "outputs": [],
   "source": [
    "green = newimg.copy()\n",
    "green[green<=average+10] = 0\n",
    "cv2.imwrite('result/green56.jpg', green)\n",
    "cv2.imshow('green', green)\n",
    "cv2.waitKey(0)\n",
    "cv2.destroyAllWindows()"
   ]
  },
  {
   "cell_type": "code",
   "execution_count": 223,
   "metadata": {
    "collapsed": true
   },
   "outputs": [],
   "source": [
    "blur = cv2.GaussianBlur(green,(5,5),0)\n",
    "retgreen,thgreen = cv2.threshold(blur,0,255,cv2.THRESH_BINARY+cv2.THRESH_OTSU)\n",
    "\n",
    "cv2.imwrite('result/thgreen.jpg', thgreen)\n",
    "cv2.imshow('green', thgreen)\n",
    "cv2.waitKey(0)\n",
    "cv2.destroyAllWindows()"
   ]
  },
  {
   "cell_type": "code",
   "execution_count": null,
   "metadata": {
    "collapsed": true
   },
   "outputs": [],
   "source": []
  }
 ],
 "metadata": {
  "kernelspec": {
   "display_name": "Python 2",
   "language": "python",
   "name": "python2"
  },
  "language_info": {
   "codemirror_mode": {
    "name": "ipython",
    "version": 2
   },
   "file_extension": ".py",
   "mimetype": "text/x-python",
   "name": "python",
   "nbconvert_exporter": "python",
   "pygments_lexer": "ipython2",
   "version": "2.7.13"
  }
 },
 "nbformat": 4,
 "nbformat_minor": 2
}
